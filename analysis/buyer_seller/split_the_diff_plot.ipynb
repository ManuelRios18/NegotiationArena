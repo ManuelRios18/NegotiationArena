{
 "cells": [
  {
   "cell_type": "code",
   "execution_count": 2,
   "metadata": {},
   "outputs": [],
   "source": [
    "%load_ext autoreload\n",
    "%autoreload 2\n",
    "import sys\n",
    "sys.path.append(\"..\")\n",
    "sys.path.append(\"../..\")"
   ]
  },
  {
   "cell_type": "code",
   "execution_count": 3,
   "metadata": {},
   "outputs": [],
   "source": [
    "import os\n",
    "import json\n",
    "import math\n",
    "import numpy as np\n",
    "import pandas as pd\n",
    "from explorer.utils import load_states_from_dir\n",
    "import matplotlib.pyplot as plt"
   ]
  },
  {
   "cell_type": "code",
   "execution_count": 4,
   "metadata": {},
   "outputs": [
    {
     "name": "stdout",
     "output_type": "stream",
     "text": [
      "\n",
      "Exception Type: AssertionError\n",
      "Exception Message: WARNING : Game  /Users/patrickjohnchia/Desktop/Projects/negotiation/.logs/split_the_difference_new/1702859623772/game_state.json has not ended\n",
      "\n",
      "Stack Trace:\n",
      "Traceback (most recent call last):\n",
      "  File \"../../explorer/utils.py\", line 111, in load_states_from_dir\n",
      "    assert (\n",
      "AssertionError: WARNING : Game  /Users/patrickjohnchia/Desktop/Projects/negotiation/.logs/split_the_difference_new/1702859623772/game_state.json has not ended\n",
      "\n",
      "\n",
      "\n",
      "Exception Type: AssertionError\n",
      "Exception Message: WARNING : Game  /Users/patrickjohnchia/Desktop/Projects/negotiation/.logs/split_the_difference_new/1702861355657/game_state.json has not ended\n",
      "\n",
      "Stack Trace:\n",
      "Traceback (most recent call last):\n",
      "  File \"../../explorer/utils.py\", line 111, in load_states_from_dir\n",
      "    assert (\n",
      "AssertionError: WARNING : Game  /Users/patrickjohnchia/Desktop/Projects/negotiation/.logs/split_the_difference_new/1702861355657/game_state.json has not ended\n",
      "\n",
      "\n",
      "\n",
      "Exception Type: AssertionError\n",
      "Exception Message: WARNING : Game  /Users/patrickjohnchia/Desktop/Projects/negotiation/.logs/split_the_difference_new/1702861573163/game_state.json has not ended\n",
      "\n",
      "Stack Trace:\n",
      "Traceback (most recent call last):\n",
      "  File \"../../explorer/utils.py\", line 111, in load_states_from_dir\n",
      "    assert (\n",
      "AssertionError: WARNING : Game  /Users/patrickjohnchia/Desktop/Projects/negotiation/.logs/split_the_difference_new/1702861573163/game_state.json has not ended\n",
      "\n",
      "\n",
      "\n",
      "Exception Type: AssertionError\n",
      "Exception Message: WARNING : Game  /Users/patrickjohnchia/Desktop/Projects/negotiation/.logs/split_the_difference_new/1702862850116/game_state.json has not ended\n",
      "\n",
      "Stack Trace:\n",
      "Traceback (most recent call last):\n",
      "  File \"../../explorer/utils.py\", line 111, in load_states_from_dir\n",
      "    assert (\n",
      "AssertionError: WARNING : Game  /Users/patrickjohnchia/Desktop/Projects/negotiation/.logs/split_the_difference_new/1702862850116/game_state.json has not ended\n",
      "\n",
      "\n",
      "\n",
      "Exception Type: AssertionError\n",
      "Exception Message: WARNING : Game  /Users/patrickjohnchia/Desktop/Projects/negotiation/.logs/split_the_difference_new/1702863355403/game_state.json has not ended\n",
      "\n",
      "Stack Trace:\n",
      "Traceback (most recent call last):\n",
      "  File \"../../explorer/utils.py\", line 111, in load_states_from_dir\n",
      "    assert (\n",
      "AssertionError: WARNING : Game  /Users/patrickjohnchia/Desktop/Projects/negotiation/.logs/split_the_difference_new/1702863355403/game_state.json has not ended\n",
      "\n",
      "\n",
      "\n",
      "Exception Type: AssertionError\n",
      "Exception Message: WARNING : Game  /Users/patrickjohnchia/Desktop/Projects/negotiation/.logs/split_the_difference_new/1702863833050/game_state.json has not ended\n",
      "\n",
      "Stack Trace:\n",
      "Traceback (most recent call last):\n",
      "  File \"../../explorer/utils.py\", line 111, in load_states_from_dir\n",
      "    assert (\n",
      "AssertionError: WARNING : Game  /Users/patrickjohnchia/Desktop/Projects/negotiation/.logs/split_the_difference_new/1702863833050/game_state.json has not ended\n",
      "\n",
      "\n",
      "\n",
      "Exception Type: AssertionError\n",
      "Exception Message: WARNING : Game  /Users/patrickjohnchia/Desktop/Projects/negotiation/.logs/split_the_difference_new/1702864010199/game_state.json has not ended\n",
      "\n",
      "Stack Trace:\n",
      "Traceback (most recent call last):\n",
      "  File \"../../explorer/utils.py\", line 111, in load_states_from_dir\n",
      "    assert (\n",
      "AssertionError: WARNING : Game  /Users/patrickjohnchia/Desktop/Projects/negotiation/.logs/split_the_difference_new/1702864010199/game_state.json has not ended\n",
      "\n",
      "\n",
      "\n",
      "Exception Type: AssertionError\n",
      "Exception Message: WARNING : Game  /Users/patrickjohnchia/Desktop/Projects/negotiation/.logs/split_the_difference_new/1702864629742/game_state.json has not ended\n",
      "\n",
      "Stack Trace:\n",
      "Traceback (most recent call last):\n",
      "  File \"../../explorer/utils.py\", line 111, in load_states_from_dir\n",
      "    assert (\n",
      "AssertionError: WARNING : Game  /Users/patrickjohnchia/Desktop/Projects/negotiation/.logs/split_the_difference_new/1702864629742/game_state.json has not ended\n",
      "\n",
      "\n",
      "THERE ARE 108 log files\n",
      "100 Loaded Successfully\n"
     ]
    }
   ],
   "source": [
    "log_dir = \"/Users/patrickjohnchia/Desktop/Projects/negotiation/.logs/split_the_difference_new/\"\n",
    "game_states = load_states_from_dir(log_dir)"
   ]
  },
  {
   "cell_type": "code",
   "execution_count": 5,
   "metadata": {},
   "outputs": [
    {
     "name": "stdout",
     "output_type": "stream",
     "text": [
      "100\n"
     ]
    }
   ],
   "source": [
    "game_states = [ g for g in game_states if len(g.game_state) >=5]\n",
    "print(len(game_states))"
   ]
  },
  {
   "cell_type": "code",
   "execution_count": 6,
   "metadata": {},
   "outputs": [
    {
     "name": "stdout",
     "output_type": "stream",
     "text": [
      "[[30, 28, 29], [35, 25, 32, 28, 30], [25, 22, 23], [35, 30, 33], [30, 25, 28, 26, 27], [45, 40, 42, 41], [30, 27, 28], [40, 35, 38, 36], [30, 25, 28, 26], [25, 23, 24], [50, 45, 48, 47], [35, 30, 32], [25, 20, 23, 21, 22], [30, 25, 28, 26, 27], [25, 20, 23], [45, 40, 42], [30, 20, 27, 23, 26, 24], [45, 42, 44, 43], [50, 40, 45], [25, 20, 23, 21, 22], [50, 40, 45], [25, 20, 23, 21, 22], [30, 25, 28], [25, 22, 23], [40, 36, 38], [40, 50], [50, 45, 47], [30, 25, 28], [35, 50], [35, 33, 34], [50, 45, 47, 46], [50, 45, 48, 46], [35, 32, 34, 33], [40, 30, 35], [45, 42, 44, 43], [50, 45, 47, 46], [40, 25, 37, 30, 35, 32, 35], [40, 36, 38, 37], [35, 30, 32], [40, 35, 38, 36, 37], [35, 30, 33], [50, 45, 47], [30, 28, 29], [25, 22, 23], [25, 20, 22], [30, 20, 26, 23, 24], [50, 40, 45], [30, 25, 28, 26, 27], [40, 55], [30, 25, 28, 26, 27], [50, 60], [35, 30, 33], [40, 52, 55], [50, 45, 48, 46], [35, 30, 32, 31], [30, 25, 28, 26], [30, 25, 28, 26, 27], [40, 35, 37, 36], [30, 25, 28, 26], [30, 50], [50, 45, 48, 47], [35, 30, 33, 32], [35, 25, 32, 28, 31], [45, 40, 42], [45, 40, 42], [50, 40, 45, 42, 44], [30, 25, 28, 27], [30, 25, 28, 27], [30, 25, 28, 26, 27], [40, 35, 37], [50, 45, 47, 46], [40, 35, 38], [45, 35, 40, 37], [35, 30, 32, 31], [35, 32, 34], [40, 35, 37], [40, 35, 38], [40, 35, 38, 36, 37], [25, 23, 24], [40, 35, 37, 36], [50, 40, 45, 43], [50, 45, 48, 46, 47], [50, 45, 48, 46, 47], [40, 36, 38], [35, 28, 31, 29], [45, 40, 43], [35, 30, 33, 32], [45, 40, 43], [35, 32, 34, 33], [50, 42, 46, 44], [40, 35, 38, 36, 37], [40, 35, 38], [50, 45, 48, 46], [50, 40, 45, 42, 44], [30, 25, 28], [30, 20, 28, 24, 26], [40, 35, 38], [35, 30, 33, 31], [35, 30, 32], [42, 38, 40, 39]]\n"
     ]
    }
   ],
   "source": [
    "# extract trade object\n",
    "trade_proposals =[[ _['player_public_info_dict']['newly proposed trade'] for _ in  g.game_state[1:-1]] for g in game_states] \n",
    "# extract ZUP remove none\n",
    "trade_proposals = [[ _.resources_from_second_agent.resource_dict['ZUP'] for _ in tp if _ != \"NONE\"] for tp in trade_proposals]\n",
    "print(trade_proposals)\n",
    "# keep sequences that are long enough\n",
    "trade_proposals = [ tp for tp in trade_proposals if len(tp) >= 3]\n",
    "# make triples\n",
    "trade_proposals = [[[a,b,c] for a,b,c in zip(tp, tp[1:], tp[2:])] for tp in trade_proposals]\n",
    "# flatten\n",
    "trade_proposals = np.array([ _ for tp in trade_proposals for _ in tp])"
   ]
  },
  {
   "cell_type": "code",
   "execution_count": 7,
   "metadata": {},
   "outputs": [],
   "source": [
    "# (Trade @ t-1) - (Trade @ t-2)\n",
    "proposal_average = (trade_proposals[:, 1] + trade_proposals[:, 0])/2\n",
    "new_proposal =  trade_proposals[:, 2]"
   ]
  },
  {
   "cell_type": "code",
   "execution_count": 8,
   "metadata": {},
   "outputs": [
    {
     "data": {
      "image/png": "[encoded data removed]",
      "text/plain": [
       "<Figure size 640x480 with 1 Axes>"
      ]
     },
     "metadata": {},
     "output_type": "display_data"
    }
   ],
   "source": [
    "# https://stackoverflow.com/questions/25497402/adding-y-x-to-a-matplotlib-scatter-plot-if-i-havent-kept-track-of-all-the-data\n",
    "plt.rcParams.update({'font.size': 13})\n",
    "fig,ax = plt.subplots()\n",
    "ax.scatter(proposal_average, new_proposal)\n",
    "lims = [\n",
    "    math.floor(np.min([ax.get_xlim(), ax.get_ylim()])),  # min of both axes\n",
    "    math.ceil(np.max([ax.get_xlim(), ax.get_ylim()])),  # max of both axes\n",
    "]\n",
    "# now plot both limits against eachother\n",
    "ax.plot(lims, lims, 'k-', alpha=0.75, zorder=0)\n",
    "ax.set_aspect('equal')\n",
    "ax.set_xlim(lims)\n",
    "ax.set_ylim(lims)\n",
    "# ax.set_title('TEST')\n",
    "\n",
    "ax.set_ylabel('Proposed Price $p_{t+1}$')\n",
    "ax.set_xlabel('Average of Proposed Prices $p_{t-1}$ and $p_{t}$')\n",
    "ax.grid()\n",
    "\n",
    "plt.tight_layout()\n",
    "# plt.savefig('split_the_diff_plot_1.pdf')  "
   ]
  },
  {
   "cell_type": "code",
   "execution_count": null,
   "metadata": {},
   "outputs": [],
   "source": []
  },
  {
   "cell_type": "code",
   "execution_count": null,
   "metadata": {},
   "outputs": [],
   "source": []
  },
  {
   "cell_type": "code",
   "execution_count": null,
   "metadata": {},
   "outputs": [],
   "source": []
  }
 ],
 "metadata": {
  "kernelspec": {
   "display_name": ".venv",
   "language": "python",
   "name": "python3"
  },
  "language_info": {
   "codemirror_mode": {
    "name": "ipython",
    "version": 3
   },
   "file_extension": ".py",
   "mimetype": "text/x-python",
   "name": "python",
   "nbconvert_exporter": "python",
   "pygments_lexer": "ipython3",
   "version": "3.8.2"
  }
 },
 "nbformat": 4,
 "nbformat_minor": 2
}
