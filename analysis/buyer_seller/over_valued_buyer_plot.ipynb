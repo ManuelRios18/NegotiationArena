{
 "cells": [
  {
   "cell_type": "code",
   "execution_count": 1,
   "metadata": {},
   "outputs": [],
   "source": [
    "%load_ext autoreload\n",
    "%autoreload 2\n",
    "import sys\n",
    "sys.path.append(\"..\")\n",
    "sys.path.append(\"../..\")"
   ]
  },
  {
   "cell_type": "code",
   "execution_count": 219,
   "metadata": {},
   "outputs": [],
   "source": [
    "import os\n",
    "import json\n",
    "import math\n",
    "import numpy as np\n",
    "import pandas as pd\n",
    "from explorer.utils import load_states_from_dir\n",
    "import matplotlib.pyplot as plt\n",
    "import matplotlib.cm"
   ]
  },
  {
   "cell_type": "code",
   "execution_count": 232,
   "metadata": {},
   "outputs": [
    {
     "name": "stdout",
     "output_type": "stream",
     "text": [
      "\n",
      "Exception Type: AssertionError\n",
      "Exception Message: WARNING : Game  /Users/patrickjohnchia/Desktop/Projects/negotiation/.logs/over_valued_buyer/1701694265951/game_state.json has not ended\n",
      "\n",
      "Stack Trace:\n",
      "Traceback (most recent call last):\n",
      "  File \"../../explorer/utils.py\", line 111, in load_states_from_dir\n",
      "    assert (\n",
      "AssertionError: WARNING : Game  /Users/patrickjohnchia/Desktop/Projects/negotiation/.logs/over_valued_buyer/1701694265951/game_state.json has not ended\n",
      "\n",
      "\n",
      "\n",
      "Exception Type: AssertionError\n",
      "Exception Message: WARNING : Game  /Users/patrickjohnchia/Desktop/Projects/negotiation/.logs/over_valued_buyer/1701748040623/game_state.json has not ended\n",
      "\n",
      "Stack Trace:\n",
      "Traceback (most recent call last):\n",
      "  File \"../../explorer/utils.py\", line 111, in load_states_from_dir\n",
      "    assert (\n",
      "AssertionError: WARNING : Game  /Users/patrickjohnchia/Desktop/Projects/negotiation/.logs/over_valued_buyer/1701748040623/game_state.json has not ended\n",
      "\n",
      "\n",
      "\n",
      "Exception Type: AssertionError\n",
      "Exception Message: WARNING : Game  /Users/patrickjohnchia/Desktop/Projects/negotiation/.logs/over_valued_buyer/1701748652497/game_state.json has not ended\n",
      "\n",
      "Stack Trace:\n",
      "Traceback (most recent call last):\n",
      "  File \"../../explorer/utils.py\", line 111, in load_states_from_dir\n",
      "    assert (\n",
      "AssertionError: WARNING : Game  /Users/patrickjohnchia/Desktop/Projects/negotiation/.logs/over_valued_buyer/1701748652497/game_state.json has not ended\n",
      "\n",
      "\n",
      "\n",
      "Exception Type: AssertionError\n",
      "Exception Message: WARNING : Game  /Users/patrickjohnchia/Desktop/Projects/negotiation/.logs/over_valued_buyer/1701750224355/game_state.json has not ended\n",
      "\n",
      "Stack Trace:\n",
      "Traceback (most recent call last):\n",
      "  File \"../../explorer/utils.py\", line 111, in load_states_from_dir\n",
      "    assert (\n",
      "AssertionError: WARNING : Game  /Users/patrickjohnchia/Desktop/Projects/negotiation/.logs/over_valued_buyer/1701750224355/game_state.json has not ended\n",
      "\n",
      "\n",
      "\n",
      "Exception Type: AssertionError\n",
      "Exception Message: WARNING : Game  /Users/patrickjohnchia/Desktop/Projects/negotiation/.logs/over_valued_buyer/1701750627782/game_state.json has not ended\n",
      "\n",
      "Stack Trace:\n",
      "Traceback (most recent call last):\n",
      "  File \"../../explorer/utils.py\", line 111, in load_states_from_dir\n",
      "    assert (\n",
      "AssertionError: WARNING : Game  /Users/patrickjohnchia/Desktop/Projects/negotiation/.logs/over_valued_buyer/1701750627782/game_state.json has not ended\n",
      "\n",
      "\n",
      "THERE ARE 106 log files\n",
      "101 Loaded Successfully\n",
      "\n",
      "Exception Type: AssertionError\n",
      "Exception Message: WARNING : Game  /Users/patrickjohnchia/Desktop/Projects/negotiation/.logs/split_the_difference/1701760395608/game_state.json has not ended\n",
      "\n",
      "Stack Trace:\n",
      "Traceback (most recent call last):\n",
      "  File \"../../explorer/utils.py\", line 111, in load_states_from_dir\n",
      "    assert (\n",
      "AssertionError: WARNING : Game  /Users/patrickjohnchia/Desktop/Projects/negotiation/.logs/split_the_difference/1701760395608/game_state.json has not ended\n",
      "\n",
      "\n",
      "\n",
      "Exception Type: AssertionError\n",
      "Exception Message: WARNING : Game  /Users/patrickjohnchia/Desktop/Projects/negotiation/.logs/split_the_difference/1701762864996/game_state.json has not ended\n",
      "\n",
      "Stack Trace:\n",
      "Traceback (most recent call last):\n",
      "  File \"../../explorer/utils.py\", line 111, in load_states_from_dir\n",
      "    assert (\n",
      "AssertionError: WARNING : Game  /Users/patrickjohnchia/Desktop/Projects/negotiation/.logs/split_the_difference/1701762864996/game_state.json has not ended\n",
      "\n",
      "\n",
      "THERE ARE 102 log files\n",
      "100 Loaded Successfully\n",
      "\n",
      "Exception Type: AssertionError\n",
      "Exception Message: WARNING : Game  /Users/patrickjohnchia/Desktop/Projects/negotiation/.logs/over_valued_buyer_prompt/1701758592006/game_state.json has not ended\n",
      "\n",
      "Stack Trace:\n",
      "Traceback (most recent call last):\n",
      "  File \"../../explorer/utils.py\", line 111, in load_states_from_dir\n",
      "    assert (\n",
      "AssertionError: WARNING : Game  /Users/patrickjohnchia/Desktop/Projects/negotiation/.logs/over_valued_buyer_prompt/1701758592006/game_state.json has not ended\n",
      "\n",
      "\n",
      "\n",
      "Exception Type: AssertionError\n",
      "Exception Message: WARNING : Game  /Users/patrickjohnchia/Desktop/Projects/negotiation/.logs/over_valued_buyer_prompt/1701759855164/game_state.json has not ended\n",
      "\n",
      "Stack Trace:\n",
      "Traceback (most recent call last):\n",
      "  File \"../../explorer/utils.py\", line 111, in load_states_from_dir\n",
      "    assert (\n",
      "AssertionError: WARNING : Game  /Users/patrickjohnchia/Desktop/Projects/negotiation/.logs/over_valued_buyer_prompt/1701759855164/game_state.json has not ended\n",
      "\n",
      "\n",
      "\n",
      "Exception Type: AssertionError\n",
      "Exception Message: WARNING : Game  /Users/patrickjohnchia/Desktop/Projects/negotiation/.logs/over_valued_buyer_prompt/1701762464940/game_state.json has not ended\n",
      "\n",
      "Stack Trace:\n",
      "Traceback (most recent call last):\n",
      "  File \"../../explorer/utils.py\", line 111, in load_states_from_dir\n",
      "    assert (\n",
      "AssertionError: WARNING : Game  /Users/patrickjohnchia/Desktop/Projects/negotiation/.logs/over_valued_buyer_prompt/1701762464940/game_state.json has not ended\n",
      "\n",
      "\n",
      "\n",
      "Exception Type: AssertionError\n",
      "Exception Message: WARNING : Game  /Users/patrickjohnchia/Desktop/Projects/negotiation/.logs/over_valued_buyer_prompt/1701765773445/game_state.json has not ended\n",
      "\n",
      "Stack Trace:\n",
      "Traceback (most recent call last):\n",
      "  File \"../../explorer/utils.py\", line 111, in load_states_from_dir\n",
      "    assert (\n",
      "AssertionError: WARNING : Game  /Users/patrickjohnchia/Desktop/Projects/negotiation/.logs/over_valued_buyer_prompt/1701765773445/game_state.json has not ended\n",
      "\n",
      "\n",
      "\n",
      "Exception Type: AssertionError\n",
      "Exception Message: WARNING : Game  /Users/patrickjohnchia/Desktop/Projects/negotiation/.logs/over_valued_buyer_prompt/1701766545089/game_state.json has not ended\n",
      "\n",
      "Stack Trace:\n",
      "Traceback (most recent call last):\n",
      "  File \"../../explorer/utils.py\", line 111, in load_states_from_dir\n",
      "    assert (\n",
      "AssertionError: WARNING : Game  /Users/patrickjohnchia/Desktop/Projects/negotiation/.logs/over_valued_buyer_prompt/1701766545089/game_state.json has not ended\n",
      "\n",
      "\n",
      "THERE ARE 103 log files\n",
      "98 Loaded Successfully\n"
     ]
    }
   ],
   "source": [
    "# log_dir = \"/Users/patrickjohnchia/Desktop/Projects/negotiation/.logs/split_the_difference/\"\n",
    "log_dir_over_valued = \"/Users/patrickjohnchia/Desktop/Projects/negotiation/.logs/over_valued_buyer/\"\n",
    "log_dir_default = \"/Users/patrickjohnchia/Desktop/Projects/negotiation/.logs/split_the_difference/\"\n",
    "log_dir_over_valued_prompted = \"/Users/patrickjohnchia/Desktop/Projects/negotiation/.logs/over_valued_buyer_prompt/\"\n",
    "\n",
    "game_states_over_valued = load_states_from_dir(log_dir_over_valued)\n",
    "game_states_default = load_states_from_dir(log_dir_default)\n",
    "game_states_ov_prompted = load_states_from_dir(log_dir_over_valued_prompted)\n"
   ]
  },
  {
   "cell_type": "code",
   "execution_count": 233,
   "metadata": {},
   "outputs": [],
   "source": [
    "def get_bad_proposal_rate(game_states):\n",
    "    game_states = [ g for g in game_states if len(g.game_state) >=2]\n",
    "    # extract trade object\n",
    "    trade_proposals = [[ _['player_public_info_dict']['newly proposed trade'] for _ in  g.game_state[1:-1]] for g in game_states] \n",
    "    # extract ZUP remove none\n",
    "    trade_proposals = [[ _.resources_from_second_agent.resource_dict['ZUP'] if _ != \"NONE\" else 0 for _ in tp ] for tp in trade_proposals]\n",
    "    # get sequences long enough\n",
    "    trade_proposals = [tp for tp in trade_proposals if len(tp) >= 2]\n",
    "    # get first two proposals\n",
    "    trade_proposals = [tp[:2] for tp in trade_proposals]\n",
    "    # flatten\n",
    "    trade_proposals = np.array(trade_proposals)\n",
    "    bad_proposal_rate=  np.average(trade_proposals[:,1] > trade_proposals[:, 0])\n",
    "    trade_proposals, bad_proposal_rate\n",
    "    return bad_proposal_rate\n"
   ]
  },
  {
   "cell_type": "code",
   "execution_count": 234,
   "metadata": {},
   "outputs": [
    {
     "data": {
      "text/plain": [
       "(0.18, 0.3465346534653465, 0.3469387755102041)"
      ]
     },
     "execution_count": 234,
     "metadata": {},
     "output_type": "execute_result"
    }
   ],
   "source": [
    "over_valued_bpr = get_bad_proposal_rate(game_states_over_valued)\n",
    "default_bpr = get_bad_proposal_rate(game_states_default)\n",
    "over_valued_prompted_bpr = get_bad_proposal_rate(game_states_ov_prompted)\n",
    "default_bpr, over_valued_bpr, over_valued_prompted_bpr"
   ]
  },
  {
   "cell_type": "code",
   "execution_count": 235,
   "metadata": {},
   "outputs": [
    {
     "data": {
      "image/png": "[encoded data removed]",
      "text/plain": [
       "<Figure size 640x480 with 1 Axes>"
      ]
     },
     "metadata": {},
     "output_type": "display_data"
    }
   ],
   "source": [
    "plt.rcParams.update({'font.size': 13})\n",
    "fig,ax = plt.subplots()\n",
    "ax.bar(\n",
    "    [\n",
    "      \"Default\",\n",
    "      \"Over Valued Buyer\",\n",
    "      \"Over Valued Buyer,\\n Self Interested\", \n",
    "    ],\n",
    "        \n",
    "    [\n",
    "        default_bpr,\n",
    "        over_valued_bpr,\n",
    "        over_valued_prompted_bpr,\n",
    "    ],\n",
    "    color=matplotlib.cm.datad['tab10']['listed'][:3],\n",
    "    width=0.5\n",
    ")\n",
    "ax.set_ylabel('P$(p_1 < p_2)$')\n",
    "plt.tight_layout()\n",
    "plt.savefig('over_valued_buyer.pdf')  "
   ]
  },
  {
   "cell_type": "code",
   "execution_count": null,
   "metadata": {},
   "outputs": [],
   "source": []
  }
 ],
 "metadata": {
  "kernelspec": {
   "display_name": ".venv",
   "language": "python",
   "name": "python3"
  },
  "language_info": {
   "codemirror_mode": {
    "name": "ipython",
    "version": 3
   },
   "file_extension": ".py",
   "mimetype": "text/x-python",
   "name": "python",
   "nbconvert_exporter": "python",
   "pygments_lexer": "ipython3",
   "version": "3.8.2"
  }
 },
 "nbformat": 4,
 "nbformat_minor": 2
}
