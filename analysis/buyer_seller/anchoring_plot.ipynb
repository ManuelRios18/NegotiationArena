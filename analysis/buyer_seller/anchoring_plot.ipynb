{
 "cells": [
  {
   "cell_type": "code",
   "execution_count": 1,
   "metadata": {},
   "outputs": [],
   "source": [
    "%load_ext autoreload\n",
    "%autoreload 2\n",
    "import sys\n",
    "sys.path.append(\"..\")\n",
    "sys.path.append(\"../..\")"
   ]
  },
  {
   "cell_type": "code",
   "execution_count": 40,
   "metadata": {},
   "outputs": [],
   "source": [
    "import os\n",
    "import json\n",
    "import math\n",
    "import numpy as np\n",
    "import pandas as pd\n",
    "from explorer.utils import load_states_from_dir\n",
    "import matplotlib.pyplot as plt\n",
    "from scipy.stats import pearsonr, spearmanr"
   ]
  },
  {
   "cell_type": "code",
   "execution_count": 3,
   "metadata": {},
   "outputs": [
    {
     "name": "stdout",
     "output_type": "stream",
     "text": [
      "\n",
      "Exception Type: NotADirectoryError\n",
      "Exception Message: [Errno 20] Not a directory: '/Users/patrickjohnchia/Desktop/Projects/negotiation/analysis/buyer_seller/.logs/split_the_difference/.DS_Store/game_state.json'\n",
      "Stack Trace:\n",
      "Traceback (most recent call last):\n",
      "  File \"../../explorer/utils.py\", line 108, in load_states_from_dir\n",
      "    with open(path) as f:\n",
      "NotADirectoryError: [Errno 20] Not a directory: '/Users/patrickjohnchia/Desktop/Projects/negotiation/analysis/buyer_seller/.logs/split_the_difference/.DS_Store/game_state.json'\n",
      "\n",
      "THERE ARE 101 log files\n",
      "100 Loaded Successfully\n"
     ]
    }
   ],
   "source": [
    "log_dir = \"/Users/patrickjohnchia/Desktop/Projects/negotiation/analysis/buyer_seller/.logs/split_the_difference/\"\n",
    "game_states = load_states_from_dir(log_dir)"
   ]
  },
  {
   "cell_type": "code",
   "execution_count": 4,
   "metadata": {},
   "outputs": [
    {
     "name": "stdout",
     "output_type": "stream",
     "text": [
      "100\n"
     ]
    }
   ],
   "source": [
    "game_states = [ g for g in game_states if len(g.game_state) >=2]\n",
    "print(len(game_states))"
   ]
  },
  {
   "cell_type": "code",
   "execution_count": 31,
   "metadata": {},
   "outputs": [
    {
     "data": {
      "text/plain": [
       "array([[45, 41],\n",
       "       [50, 43],\n",
       "       [50, 43],\n",
       "       [25, 24],\n",
       "       [30, 29],\n",
       "       [35, 32],\n",
       "       [30, 27],\n",
       "       [50, 49],\n",
       "       [25, 24],\n",
       "       [30, 26],\n",
       "       [30, 28],\n",
       "       [50, 45],\n",
       "       [40, 38],\n",
       "       [40, 50],\n",
       "       [40, 37],\n",
       "       [40, 38],\n",
       "       [30, 27],\n",
       "       [30, 28],\n",
       "       [35, 32],\n",
       "       [25, 23],\n",
       "       [35, 32],\n",
       "       [50, 42],\n",
       "       [30, 25],\n",
       "       [40, 37],\n",
       "       [50, 47],\n",
       "       [30, 26],\n",
       "       [35, 31],\n",
       "       [50, 60],\n",
       "       [30, 29],\n",
       "       [45, 42],\n",
       "       [40, 39],\n",
       "       [30, 29],\n",
       "       [50, 42],\n",
       "       [25, 23],\n",
       "       [40, 38],\n",
       "       [35, 34],\n",
       "       [30, 30],\n",
       "       [35, 33],\n",
       "       [40, 38],\n",
       "       [40, 36],\n",
       "       [50, 44],\n",
       "       [35, 32],\n",
       "       [25, 23],\n",
       "       [50, 48],\n",
       "       [35, 33],\n",
       "       [40, 37],\n",
       "       [45, 43],\n",
       "       [40, 34],\n",
       "       [40, 36],\n",
       "       [45, 43],\n",
       "       [50, 42],\n",
       "       [42, 40],\n",
       "       [50, 47],\n",
       "       [25, 38],\n",
       "       [30, 26],\n",
       "       [40, 37],\n",
       "       [30, 27],\n",
       "       [50, 43],\n",
       "       [25, 23],\n",
       "       [35, 31],\n",
       "       [25, 30],\n",
       "       [30, 27],\n",
       "       [45, 41],\n",
       "       [25, 50],\n",
       "       [25, 22],\n",
       "       [25, 22],\n",
       "       [30, 50],\n",
       "       [40, 39],\n",
       "       [30, 26],\n",
       "       [30, 29],\n",
       "       [30, 50],\n",
       "       [40, 38],\n",
       "       [40, 37],\n",
       "       [40, 36],\n",
       "       [30, 30],\n",
       "       [35, 33],\n",
       "       [40, 36],\n",
       "       [40, 38],\n",
       "       [40, 37],\n",
       "       [30, 30],\n",
       "       [35, 33],\n",
       "       [35, 34],\n",
       "       [30, 50],\n",
       "       [50, 44],\n",
       "       [40, 36],\n",
       "       [30, 27],\n",
       "       [30, 27],\n",
       "       [30, 40],\n",
       "       [30, 28],\n",
       "       [35, 32],\n",
       "       [30, 27],\n",
       "       [35, 30],\n",
       "       [30, 27],\n",
       "       [45, 42],\n",
       "       [30, 27],\n",
       "       [30, 50],\n",
       "       [30, 50],\n",
       "       [30, 27],\n",
       "       [40, 37],\n",
       "       [30, 27]])"
      ]
     },
     "execution_count": 31,
     "metadata": {},
     "output_type": "execute_result"
    }
   ],
   "source": [
    "# extract trade object; keep only if final accepted\n",
    "trade_proposals =[[ _['player_public_info_dict']['newly proposed trade'] for _ in  g.game_state[1:-1]] for g in game_states if g.game_state[-1]['summary']['final_response']=='ACCEPT'] \n",
    "\n",
    "# get final and initial proposal\n",
    "trade_proposals = [[ _.resources_from_second_agent.resource_dict['ZUP'] for _ in [tp[0], tp[-2]]] for tp in trade_proposals]\n",
    "\n",
    "# extract ZUP remove none\n",
    "# trade_proposals = [[ _.resources_from_second_agent.resource_dict['ZUP'] for _ in tp if _ != \"NONE\"] for tp in trade_proposals]\n",
    "# print(trade_proposals)\n",
    "# # keep sequences that are long enough\n",
    "# trade_proposals = [ tp for tp in trade_proposals if len(tp) >= 3]\n",
    "# # make triples\n",
    "# trade_proposals = [[[a,b,c] for a,b,c in zip(tp, tp[1:], tp[2:])] for tp in trade_proposals]\n",
    "# # flatten\n",
    "\n",
    "trade_proposals = np.array(trade_proposals)\n",
    "\n",
    "# print(trade_proposals[0])\n",
    "# game_states[0].game_state[-1]['summary']\n",
    "trade_proposals"
   ]
  },
  {
   "cell_type": "code",
   "execution_count": 46,
   "metadata": {},
   "outputs": [
    {
     "data": {
      "text/plain": [
       "array([45, 50, 50, 25, 30, 35, 30, 50, 25, 30, 30, 50, 40, 40, 40, 40, 30,\n",
       "       30, 35, 25, 35, 50, 30, 40, 50, 30, 35, 50, 30, 45, 40, 30, 50, 25,\n",
       "       40, 35, 30, 35, 40, 40, 50, 35, 25, 50, 35, 40, 45, 40, 40, 45, 50,\n",
       "       42, 50, 25, 30, 40, 30, 50, 25, 35, 25, 30, 45, 25, 25, 25, 30, 40,\n",
       "       30, 30, 30, 40, 40, 40, 30, 35, 40, 40, 40, 30, 35, 35, 30, 50, 40,\n",
       "       30, 30, 30, 30, 35, 30, 35, 30, 45, 30, 30, 30, 30, 40, 30])"
      ]
     },
     "execution_count": 46,
     "metadata": {},
     "output_type": "execute_result"
    }
   ],
   "source": [
    "# (Trade @ t-1) - (Trade @ t-2)\n",
    "# proposal_average = (trade_proposals[:, 1] + trade_proposals[:, 0])/2\n",
    "# new_proposal =  trade_proposals[:, 2]\n",
    "trade_proposals[:,0]"
   ]
  },
  {
   "cell_type": "code",
   "execution_count": 60,
   "metadata": {},
   "outputs": [
    {
     "name": "stdout",
     "output_type": "stream",
     "text": [
      "[20, 60]\n"
     ]
    },
    {
     "data": {
      "image/png": "[encoded data removed]",
      "text/plain": [
       "<Figure size 640x480 with 1 Axes>"
      ]
     },
     "metadata": {},
     "output_type": "display_data"
    }
   ],
   "source": [
    "# https://stackoverflow.com/questions/25497402/adding-y-x-to-a-matplotlib-scatter-plot-if-i-havent-kept-track-of-all-the-data\n",
    "plt.rcParams.update({'font.size': 13})\n",
    "fig,ax = plt.subplots()\n",
    "ax.scatter(trade_proposals[:,0], trade_proposals[:, 1])\n",
    "lims = [\n",
    "    math.floor(np.min([ax.get_xlim(), ax.get_ylim()])),  # min of both axes\n",
    "    math.ceil(np.max([ax.get_xlim(), ax.get_ylim()])-2),  # max of both axes\n",
    "]\n",
    "print(lims)\n",
    "# now plot both limits against eachother\n",
    "ax.plot(lims, lims, 'k-', alpha=0.75, zorder=0)\n",
    "ax.set_aspect('equal')\n",
    "ax.set_xlim(lims)\n",
    "ax.set_ylim(lims)\n",
    "# ax.set_title('TEST')\n",
    "\n",
    "ax.set_xlabel('Intial Price Proposal $p_{1}$')\n",
    "ax.set_ylabel('Final Price Proposal $p_{final}$')\n",
    "ax.grid()\n",
    "\n",
    "plt.text(0.90, 0.95, r\"$\\rho=0.716$\", transform=plt.gca().transAxes, ha='right', va='top')\n",
    "\n",
    "plt.xticks(*plt.yticks())\n",
    "plt.tight_layout()\n",
    "\n",
    "plt.savefig('anchoring_plot.pdf')  "
   ]
  },
  {
   "cell_type": "code",
   "execution_count": 37,
   "metadata": {},
   "outputs": [
    {
     "data": {
      "text/plain": [
       "PearsonRResult(statistic=0.6804574906404588, pvalue=6.844934764897455e-15)"
      ]
     },
     "execution_count": 37,
     "metadata": {},
     "output_type": "execute_result"
    }
   ],
   "source": [
    "pearsonr(trade_proposals[:,0], trade_proposals[:, 1])"
   ]
  },
  {
   "cell_type": "code",
   "execution_count": 41,
   "metadata": {},
   "outputs": [
    {
     "data": {
      "text/plain": [
       "SignificanceResult(statistic=0.716223160213156, pvalue=5.446577603881447e-17)"
      ]
     },
     "execution_count": 41,
     "metadata": {},
     "output_type": "execute_result"
    }
   ],
   "source": [
    "spearmanr(trade_proposals[:,0], trade_proposals[:, 1])"
   ]
  },
  {
   "cell_type": "code",
   "execution_count": null,
   "metadata": {},
   "outputs": [],
   "source": []
  }
 ],
 "metadata": {
  "kernelspec": {
   "display_name": ".venv",
   "language": "python",
   "name": "python3"
  },
  "language_info": {
   "codemirror_mode": {
    "name": "ipython",
    "version": 3
   },
   "file_extension": ".py",
   "mimetype": "text/x-python",
   "name": "python",
   "nbconvert_exporter": "python",
   "pygments_lexer": "ipython3",
   "version": "3.8.2"
  }
 },
 "nbformat": 4,
 "nbformat_minor": 2
}
