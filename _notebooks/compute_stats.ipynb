{
 "cells": [
  {
   "cell_type": "code",
   "execution_count": 1,
   "metadata": {},
   "outputs": [],
   "source": [
    "%load_ext autoreload\n",
    "%autoreload 2\n",
    "import sys\n",
    "sys.path.append(\"..\")"
   ]
  },
  {
   "cell_type": "code",
   "execution_count": 2,
   "metadata": {},
   "outputs": [
    {
     "name": "stderr",
     "output_type": "stream",
     "text": [
      "/Users/patrickjohnchia/Desktop/Projects/negotiation/.venv/lib/python3.8/site-packages/urllib3/__init__.py:34: NotOpenSSLWarning: urllib3 v2.0 only supports OpenSSL 1.1.1+, currently the 'ssl' module is compiled with 'LibreSSL 2.8.3'. See: https://github.com/urllib3/urllib3/issues/3020\n",
      "  warnings.warn(\n"
     ]
    }
   ],
   "source": [
    "import os\n",
    "import json\n",
    "import numpy as np\n",
    "import pandas as pd\n",
    "from explorer.utils import load_states_from_dir"
   ]
  },
  {
   "cell_type": "code",
   "execution_count": 9,
   "metadata": {},
   "outputs": [
    {
     "name": "stdout",
     "output_type": "stream",
     "text": [
      "THERE ARE 5 log files\n",
      "5 Loaded Successfully\n"
     ]
    }
   ],
   "source": [
    "# log_dir_bs = \"/Users/patrickjohnchia/Desktop/Projects/negotiation/.logs/buysell\"\n",
    "log_dir = \"/Users/patrickjohnchia/Desktop/Projects/negotiation/.logs/buysell\"\n",
    "game_states = load_states_from_dir(log_dir) #+ load_states_from_dir(log_dir) "
   ]
  },
  {
   "cell_type": "code",
   "execution_count": 10,
   "metadata": {},
   "outputs": [
    {
     "name": "stdout",
     "output_type": "stream",
     "text": [
      "dict_keys(['player_goals', 'initial_resources', 'proposed_trade', 'player_valuation', 'final_response', 'final_resources', 'player_outcome'])\n"
     ]
    },
    {
     "data": {
      "text/html": [
       "<div>\n",
       "<style scoped>\n",
       "    .dataframe tbody tr th:only-of-type {\n",
       "        vertical-align: middle;\n",
       "    }\n",
       "\n",
       "    .dataframe tbody tr th {\n",
       "        vertical-align: top;\n",
       "    }\n",
       "\n",
       "    .dataframe thead th {\n",
       "        text-align: right;\n",
       "    }\n",
       "</style>\n",
       "<table border=\"1\" class=\"dataframe\">\n",
       "  <thead>\n",
       "    <tr style=\"text-align: right;\">\n",
       "      <th></th>\n",
       "      <th>game_name</th>\n",
       "      <th>model_1</th>\n",
       "      <th>model_2</th>\n",
       "      <th>outcome_1</th>\n",
       "      <th>outcome_2</th>\n",
       "      <th>resource_delta_1</th>\n",
       "      <th>resource_delta_2</th>\n",
       "    </tr>\n",
       "  </thead>\n",
       "  <tbody>\n",
       "    <tr>\n",
       "      <th>0</th>\n",
       "      <td>BuySellGame</td>\n",
       "      <td>gpt-4-1106-preview</td>\n",
       "      <td>gpt-4-1106-preview</td>\n",
       "      <td>-9.0</td>\n",
       "      <td>-1.0</td>\n",
       "      <td>-9.0</td>\n",
       "      <td>-1.0</td>\n",
       "    </tr>\n",
       "    <tr>\n",
       "      <th>1</th>\n",
       "      <td>BuySellGame</td>\n",
       "      <td>gpt-4-1106-preview</td>\n",
       "      <td>gpt-4-1106-preview</td>\n",
       "      <td>0.0</td>\n",
       "      <td>0.0</td>\n",
       "      <td>0.0</td>\n",
       "      <td>0.0</td>\n",
       "    </tr>\n",
       "    <tr>\n",
       "      <th>2</th>\n",
       "      <td>BuySellGame</td>\n",
       "      <td>gpt-4-1106-preview</td>\n",
       "      <td>gpt-4-1106-preview</td>\n",
       "      <td>-10.0</td>\n",
       "      <td>0.0</td>\n",
       "      <td>-10.0</td>\n",
       "      <td>0.0</td>\n",
       "    </tr>\n",
       "    <tr>\n",
       "      <th>3</th>\n",
       "      <td>BuySellGame</td>\n",
       "      <td>gpt-4-1106-preview</td>\n",
       "      <td>gpt-4-1106-preview</td>\n",
       "      <td>-10.0</td>\n",
       "      <td>0.0</td>\n",
       "      <td>-10.0</td>\n",
       "      <td>0.0</td>\n",
       "    </tr>\n",
       "    <tr>\n",
       "      <th>4</th>\n",
       "      <td>BuySellGame</td>\n",
       "      <td>gpt-4-1106-preview</td>\n",
       "      <td>gpt-4-1106-preview</td>\n",
       "      <td>-11.0</td>\n",
       "      <td>1.0</td>\n",
       "      <td>-11.0</td>\n",
       "      <td>1.0</td>\n",
       "    </tr>\n",
       "  </tbody>\n",
       "</table>\n",
       "</div>"
      ],
      "text/plain": [
       "     game_name             model_1             model_2 outcome_1 outcome_2  \\\n",
       "0  BuySellGame  gpt-4-1106-preview  gpt-4-1106-preview      -9.0      -1.0   \n",
       "1  BuySellGame  gpt-4-1106-preview  gpt-4-1106-preview       0.0       0.0   \n",
       "2  BuySellGame  gpt-4-1106-preview  gpt-4-1106-preview     -10.0       0.0   \n",
       "3  BuySellGame  gpt-4-1106-preview  gpt-4-1106-preview     -10.0       0.0   \n",
       "4  BuySellGame  gpt-4-1106-preview  gpt-4-1106-preview     -11.0       1.0   \n",
       "\n",
       "  resource_delta_1 resource_delta_2  \n",
       "0             -9.0             -1.0  \n",
       "1              0.0              0.0  \n",
       "2            -10.0              0.0  \n",
       "3            -10.0              0.0  \n",
       "4            -11.0              1.0  "
      ]
     },
     "execution_count": 10,
     "metadata": {},
     "output_type": "execute_result"
    }
   ],
   "source": [
    "def get_from_summary(key, game_state, default=None):\n",
    "    if key in game_state.game_state[-1]['summary']:\n",
    "        return game_state.game_state[-1]['summary'][key]\n",
    "    else:\n",
    "        return default\n",
    "\n",
    "def compute_game_summary(game_states):\n",
    "    print(game_states[0].game_state[-1]['summary'].keys())\n",
    "    game_name = np.array([g.__class__.__name__ for g in game_states])[:, None]\n",
    "    models = np.array([[ p.model for p in g.players] for g in game_states])\n",
    "    outcomes = np.array([get_from_summary('player_outcome', g) for g in game_states])\n",
    "    valuations = np.array([get_from_summary('player_valuation', g, default=[None,None])  for g in game_states])\n",
    "    initial_resources = np.array([get_from_summary('initial_resources', g) for g in game_states])\n",
    "    final_resources = np.array([get_from_summary('final_resources', g) for g in game_states]), \n",
    "    resources_delta = (final_resources-initial_resources)[0]\n",
    "        \n",
    "    resources_delta = np.array([v.value(r) if v else r.value() for r,v in zip(resources_delta.reshape(-1,), valuations.reshape(-1))])\n",
    "    resources_delta = resources_delta.reshape(-1, 2)\n",
    "\n",
    "    df = np.concatenate((game_name, models, outcomes, resources_delta), axis=1)\n",
    "    df = pd.DataFrame(df, columns=['game_name','model_1','model_2','outcome_1','outcome_2', 'resource_delta_1', 'resource_delta_2'])\n",
    "    # for column in ['outcome_1','outcome_2', 'resource_delta_1', 'resource_delta_2']:\n",
    "    #     print(df[column])\n",
    "    #     df[column] = pd.to_numeric(df[column])\n",
    "    \n",
    "\n",
    "    return df\n",
    "      \n",
    "df = compute_game_summary(game_states)\n",
    "df"
   ]
  },
  {
   "cell_type": "code",
   "execution_count": null,
   "metadata": {},
   "outputs": [],
   "source": []
  }
 ],
 "metadata": {
  "kernelspec": {
   "display_name": ".venv",
   "language": "python",
   "name": "python3"
  },
  "language_info": {
   "codemirror_mode": {
    "name": "ipython",
    "version": 3
   },
   "file_extension": ".py",
   "mimetype": "text/x-python",
   "name": "python",
   "nbconvert_exporter": "python",
   "pygments_lexer": "ipython3",
   "version": "3.8.2"
  }
 },
 "nbformat": 4,
 "nbformat_minor": 2
}
