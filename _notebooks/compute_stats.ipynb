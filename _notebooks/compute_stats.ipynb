{
 "cells": [
  {
   "cell_type": "code",
   "execution_count": 10,
   "metadata": {},
   "outputs": [
    {
     "name": "stdout",
     "output_type": "stream",
     "text": [
      "The autoreload extension is already loaded. To reload it, use:\n",
      "  %reload_ext autoreload\n"
     ]
    }
   ],
   "source": [
    "%load_ext autoreload\n",
    "%autoreload 2\n",
    "import sys\n",
    "sys.path.append(\"..\")"
   ]
  },
  {
   "cell_type": "code",
   "execution_count": 11,
   "metadata": {},
   "outputs": [],
   "source": [
    "import os\n",
    "import json\n",
    "import numpy as np\n",
    "import pandas as pd\n",
    "from explorer.utils import load_states_from_dir"
   ]
  },
  {
   "cell_type": "code",
   "execution_count": 15,
   "metadata": {},
   "outputs": [
    {
     "name": "stdout",
     "output_type": "stream",
     "text": [
      "THERE ARE 5 log files\n",
      "5 Loaded Successfully\n",
      "THERE ARE 5 log files\n",
      "5 Loaded Successfully\n"
     ]
    }
   ],
   "source": [
    "log_dir_bs = \"/Users/patrickjohnchia/Desktop/Projects/negotiation/.logs/buysell\"\n",
    "log_dir = \"/Users/patrickjohnchia/Desktop/Projects/negotiation/.logs/trading\"\n",
    "game_states = load_states_from_dir(log_dir) + load_states_from_dir(log_dir_bs) "
   ]
  },
  {
   "cell_type": "code",
   "execution_count": 27,
   "metadata": {},
   "outputs": [
    {
     "name": "stdout",
     "output_type": "stream",
     "text": [
      "dict_keys(['player_goals', 'initial_resources', 'proposed_trade', 'final_response', 'final_resources', 'player_outcome'])\n"
     ]
    },
    {
     "ename": "TypeError",
     "evalue": "Field elements must be 2- or 3-tuples, got '<class 'pandas.core.arrays.string_.StringDtype'>'",
     "output_type": "error",
     "traceback": [
      "\u001b[0;31m---------------------------------------------------------------------------\u001b[0m",
      "\u001b[0;31mTypeError\u001b[0m                                 Traceback (most recent call last)",
      "\u001b[1;32m/Users/patrickjohnchia/Desktop/Projects/negotiation/_notebooks/compute_stats.ipynb Cell 4\u001b[0m line \u001b[0;36m2\n\u001b[1;32m     <a href='vscode-notebook-cell:/Users/patrickjohnchia/Desktop/Projects/negotiation/_notebooks/compute_stats.ipynb#W3sZmlsZQ%3D%3D?line=20'>21</a>\u001b[0m     df \u001b[39m=\u001b[39m pd\u001b[39m.\u001b[39mDataFrame(df, columns\u001b[39m=\u001b[39m[\u001b[39m'\u001b[39m\u001b[39mgame_name\u001b[39m\u001b[39m'\u001b[39m,\u001b[39m'\u001b[39m\u001b[39mmodel_1\u001b[39m\u001b[39m'\u001b[39m,\u001b[39m'\u001b[39m\u001b[39mmodel_2\u001b[39m\u001b[39m'\u001b[39m,\u001b[39m'\u001b[39m\u001b[39moutcome_1\u001b[39m\u001b[39m'\u001b[39m,\u001b[39m'\u001b[39m\u001b[39moutcome_2\u001b[39m\u001b[39m'\u001b[39m, \u001b[39m'\u001b[39m\u001b[39mresource_delta_1\u001b[39m\u001b[39m'\u001b[39m, \u001b[39m'\u001b[39m\u001b[39mresource_delta_2\u001b[39m\u001b[39m'\u001b[39m],\n\u001b[1;32m     <a href='vscode-notebook-cell:/Users/patrickjohnchia/Desktop/Projects/negotiation/_notebooks/compute_stats.ipynb#W3sZmlsZQ%3D%3D?line=21'>22</a>\u001b[0m                       dtype\u001b[39m=\u001b[39m[pd\u001b[39m.\u001b[39mStringDtype, pd\u001b[39m.\u001b[39mStringDtype, pd\u001b[39m.\u001b[39mStringDtype, pd\u001b[39m.\u001b[39mFloat64Dtype, pd\u001b[39m.\u001b[39mFloat64Dtype, pd\u001b[39m.\u001b[39mFloat64Dtype, pd\u001b[39m.\u001b[39mFloat64Dtype])\n\u001b[1;32m     <a href='vscode-notebook-cell:/Users/patrickjohnchia/Desktop/Projects/negotiation/_notebooks/compute_stats.ipynb#W3sZmlsZQ%3D%3D?line=24'>25</a>\u001b[0m     \u001b[39mreturn\u001b[39;00m df\n\u001b[0;32m---> <a href='vscode-notebook-cell:/Users/patrickjohnchia/Desktop/Projects/negotiation/_notebooks/compute_stats.ipynb#W3sZmlsZQ%3D%3D?line=26'>27</a>\u001b[0m df \u001b[39m=\u001b[39m compute_game_summary(game_states)\n\u001b[1;32m     <a href='vscode-notebook-cell:/Users/patrickjohnchia/Desktop/Projects/negotiation/_notebooks/compute_stats.ipynb#W3sZmlsZQ%3D%3D?line=27'>28</a>\u001b[0m df\n",
      "\u001b[1;32m/Users/patrickjohnchia/Desktop/Projects/negotiation/_notebooks/compute_stats.ipynb Cell 4\u001b[0m line \u001b[0;36m2\n\u001b[1;32m     <a href='vscode-notebook-cell:/Users/patrickjohnchia/Desktop/Projects/negotiation/_notebooks/compute_stats.ipynb#W3sZmlsZQ%3D%3D?line=17'>18</a>\u001b[0m resources_delta \u001b[39m=\u001b[39m resources_delta\u001b[39m.\u001b[39mreshape(\u001b[39m-\u001b[39m\u001b[39m1\u001b[39m, \u001b[39m2\u001b[39m)\n\u001b[1;32m     <a href='vscode-notebook-cell:/Users/patrickjohnchia/Desktop/Projects/negotiation/_notebooks/compute_stats.ipynb#W3sZmlsZQ%3D%3D?line=19'>20</a>\u001b[0m df \u001b[39m=\u001b[39m np\u001b[39m.\u001b[39mconcatenate((game_name, models, outcomes, resources_delta), axis\u001b[39m=\u001b[39m\u001b[39m1\u001b[39m)\n\u001b[0;32m---> <a href='vscode-notebook-cell:/Users/patrickjohnchia/Desktop/Projects/negotiation/_notebooks/compute_stats.ipynb#W3sZmlsZQ%3D%3D?line=20'>21</a>\u001b[0m df \u001b[39m=\u001b[39m pd\u001b[39m.\u001b[39;49mDataFrame(df, columns\u001b[39m=\u001b[39;49m[\u001b[39m'\u001b[39;49m\u001b[39mgame_name\u001b[39;49m\u001b[39m'\u001b[39;49m,\u001b[39m'\u001b[39;49m\u001b[39mmodel_1\u001b[39;49m\u001b[39m'\u001b[39;49m,\u001b[39m'\u001b[39;49m\u001b[39mmodel_2\u001b[39;49m\u001b[39m'\u001b[39;49m,\u001b[39m'\u001b[39;49m\u001b[39moutcome_1\u001b[39;49m\u001b[39m'\u001b[39;49m,\u001b[39m'\u001b[39;49m\u001b[39moutcome_2\u001b[39;49m\u001b[39m'\u001b[39;49m, \u001b[39m'\u001b[39;49m\u001b[39mresource_delta_1\u001b[39;49m\u001b[39m'\u001b[39;49m, \u001b[39m'\u001b[39;49m\u001b[39mresource_delta_2\u001b[39;49m\u001b[39m'\u001b[39;49m],\n\u001b[1;32m     <a href='vscode-notebook-cell:/Users/patrickjohnchia/Desktop/Projects/negotiation/_notebooks/compute_stats.ipynb#W3sZmlsZQ%3D%3D?line=21'>22</a>\u001b[0m                   dtype\u001b[39m=\u001b[39;49m[pd\u001b[39m.\u001b[39;49mStringDtype, pd\u001b[39m.\u001b[39;49mStringDtype, pd\u001b[39m.\u001b[39;49mStringDtype, pd\u001b[39m.\u001b[39;49mFloat64Dtype, pd\u001b[39m.\u001b[39;49mFloat64Dtype, pd\u001b[39m.\u001b[39;49mFloat64Dtype, pd\u001b[39m.\u001b[39;49mFloat64Dtype])\n\u001b[1;32m     <a href='vscode-notebook-cell:/Users/patrickjohnchia/Desktop/Projects/negotiation/_notebooks/compute_stats.ipynb#W3sZmlsZQ%3D%3D?line=24'>25</a>\u001b[0m \u001b[39mreturn\u001b[39;00m df\n",
      "File \u001b[0;32m~/Desktop/Projects/negotiation/.venv/lib/python3.8/site-packages/pandas/core/frame.py:650\u001b[0m, in \u001b[0;36mDataFrame.__init__\u001b[0;34m(self, data, index, columns, dtype, copy)\u001b[0m\n\u001b[1;32m    641\u001b[0m \u001b[39mdef\u001b[39;00m \u001b[39m__init__\u001b[39m(\n\u001b[1;32m    642\u001b[0m     \u001b[39mself\u001b[39m,\n\u001b[1;32m    643\u001b[0m     data\u001b[39m=\u001b[39m\u001b[39mNone\u001b[39;00m,\n\u001b[0;32m   (...)\u001b[0m\n\u001b[1;32m    647\u001b[0m     copy: \u001b[39mbool\u001b[39m \u001b[39m|\u001b[39m \u001b[39mNone\u001b[39;00m \u001b[39m=\u001b[39m \u001b[39mNone\u001b[39;00m,\n\u001b[1;32m    648\u001b[0m ) \u001b[39m-\u001b[39m\u001b[39m>\u001b[39m \u001b[39mNone\u001b[39;00m:\n\u001b[1;32m    649\u001b[0m     \u001b[39mif\u001b[39;00m dtype \u001b[39mis\u001b[39;00m \u001b[39mnot\u001b[39;00m \u001b[39mNone\u001b[39;00m:\n\u001b[0;32m--> 650\u001b[0m         dtype \u001b[39m=\u001b[39m \u001b[39mself\u001b[39;49m\u001b[39m.\u001b[39;49m_validate_dtype(dtype)\n\u001b[1;32m    652\u001b[0m     \u001b[39mif\u001b[39;00m \u001b[39misinstance\u001b[39m(data, DataFrame):\n\u001b[1;32m    653\u001b[0m         data \u001b[39m=\u001b[39m data\u001b[39m.\u001b[39m_mgr\n",
      "File \u001b[0;32m~/Desktop/Projects/negotiation/.venv/lib/python3.8/site-packages/pandas/core/generic.py:458\u001b[0m, in \u001b[0;36mNDFrame._validate_dtype\u001b[0;34m(cls, dtype)\u001b[0m\n\u001b[1;32m    456\u001b[0m \u001b[39m\u001b[39m\u001b[39m\"\"\"validate the passed dtype\"\"\"\u001b[39;00m\n\u001b[1;32m    457\u001b[0m \u001b[39mif\u001b[39;00m dtype \u001b[39mis\u001b[39;00m \u001b[39mnot\u001b[39;00m \u001b[39mNone\u001b[39;00m:\n\u001b[0;32m--> 458\u001b[0m     dtype \u001b[39m=\u001b[39m pandas_dtype(dtype)\n\u001b[1;32m    460\u001b[0m     \u001b[39m# a compound dtype\u001b[39;00m\n\u001b[1;32m    461\u001b[0m     \u001b[39mif\u001b[39;00m dtype\u001b[39m.\u001b[39mkind \u001b[39m==\u001b[39m \u001b[39m\"\u001b[39m\u001b[39mV\u001b[39m\u001b[39m\"\u001b[39m:\n",
      "File \u001b[0;32m~/Desktop/Projects/negotiation/.venv/lib/python3.8/site-packages/pandas/core/dtypes/common.py:1691\u001b[0m, in \u001b[0;36mpandas_dtype\u001b[0;34m(dtype)\u001b[0m\n\u001b[1;32m   1686\u001b[0m     \u001b[39mwith\u001b[39;00m warnings\u001b[39m.\u001b[39mcatch_warnings():\n\u001b[1;32m   1687\u001b[0m         \u001b[39m# GH#51523 - Series.astype(np.integer) doesn't show\u001b[39;00m\n\u001b[1;32m   1688\u001b[0m         \u001b[39m# numpy deprication warning of np.integer\u001b[39;00m\n\u001b[1;32m   1689\u001b[0m         \u001b[39m# Hence enabling DeprecationWarning\u001b[39;00m\n\u001b[1;32m   1690\u001b[0m         warnings\u001b[39m.\u001b[39msimplefilter(\u001b[39m\"\u001b[39m\u001b[39malways\u001b[39m\u001b[39m\"\u001b[39m, \u001b[39mDeprecationWarning\u001b[39;00m)\n\u001b[0;32m-> 1691\u001b[0m         npdtype \u001b[39m=\u001b[39m np\u001b[39m.\u001b[39;49mdtype(dtype)\n\u001b[1;32m   1692\u001b[0m \u001b[39mexcept\u001b[39;00m \u001b[39mSyntaxError\u001b[39;00m \u001b[39mas\u001b[39;00m err:\n\u001b[1;32m   1693\u001b[0m     \u001b[39m# np.dtype uses `eval` which can raise SyntaxError\u001b[39;00m\n\u001b[1;32m   1694\u001b[0m     \u001b[39mraise\u001b[39;00m \u001b[39mTypeError\u001b[39;00m(\u001b[39mf\u001b[39m\u001b[39m\"\u001b[39m\u001b[39mdata type \u001b[39m\u001b[39m'\u001b[39m\u001b[39m{\u001b[39;00mdtype\u001b[39m}\u001b[39;00m\u001b[39m'\u001b[39m\u001b[39m not understood\u001b[39m\u001b[39m\"\u001b[39m) \u001b[39mfrom\u001b[39;00m \u001b[39merr\u001b[39;00m\n",
      "\u001b[0;31mTypeError\u001b[0m: Field elements must be 2- or 3-tuples, got '<class 'pandas.core.arrays.string_.StringDtype'>'"
     ]
    }
   ],
   "source": [
    "def get_from_summary(key, game_state, default=None):\n",
    "    if key in game_state.game_state[-1]['summary']:\n",
    "        return game_state.game_state[-1]['summary'][key]\n",
    "    else:\n",
    "        return default\n",
    "\n",
    "def compute_game_summary(game_states):\n",
    "    print(game_states[0].game_state[-1]['summary'].keys())\n",
    "    game_name = np.array([g.__class__.__name__ for g in game_states])[:, None]\n",
    "    models = np.array([[ p.model for p in g.players] for g in game_states])\n",
    "    outcomes = np.array([get_from_summary('player_outcome', g) for g in game_states])\n",
    "    valuations = np.array([get_from_summary('player_valuation', g, default=[None,None])  for g in game_states])\n",
    "    initial_resources = np.array([get_from_summary('initial_resources', g) for g in game_states])\n",
    "    final_resources = np.array([get_from_summary('final_resources', g) for g in game_states]), \n",
    "    resources_delta = (final_resources-initial_resources)[0]\n",
    "        \n",
    "    resources_delta = np.array([v.value(r) if v else r.value() for r,v in zip(resources_delta.reshape(-1,), valuations.reshape(-1))])\n",
    "    resources_delta = resources_delta.reshape(-1, 2)\n",
    "\n",
    "    df = np.concatenate((game_name, models, outcomes, resources_delta), axis=1)\n",
    "    df = pd.DataFrame(df, columns=['game_name','model_1','model_2','outcome_1','outcome_2', 'resource_delta_1', 'resource_delta_2'])\n",
    "    for column in ['outcome_1','outcome_2', 'resource_delta_1', 'resource_delta_2']:\n",
    "        df[column] = pd.to_numeric(df[column])\n",
    "    \n",
    "\n",
    "    return df\n",
    "      \n",
    "df = compute_game_summary(game_states)\n",
    "df"
   ]
  },
  {
   "cell_type": "code",
   "execution_count": 26,
   "metadata": {},
   "outputs": [
    {
     "data": {
      "text/plain": [
       "game_name           object\n",
       "model_1             object\n",
       "model_2             object\n",
       "outcome_1           object\n",
       "outcome_2           object\n",
       "resource_delta_1    object\n",
       "resource_delta_2    object\n",
       "dtype: object"
      ]
     },
     "execution_count": 26,
     "metadata": {},
     "output_type": "execute_result"
    }
   ],
   "source": [
    "# df.groupby(['game_name', 'model_1', 'model_2'])['outcome_1'].max)\n",
    "df.dtypes"
   ]
  },
  {
   "cell_type": "code",
   "execution_count": null,
   "metadata": {},
   "outputs": [],
   "source": []
  }
 ],
 "metadata": {
  "kernelspec": {
   "display_name": ".venv",
   "language": "python",
   "name": "python3"
  },
  "language_info": {
   "codemirror_mode": {
    "name": "ipython",
    "version": 3
   },
   "file_extension": ".py",
   "mimetype": "text/x-python",
   "name": "python",
   "nbconvert_exporter": "python",
   "pygments_lexer": "ipython3",
   "version": "3.8.2"
  }
 },
 "nbformat": 4,
 "nbformat_minor": 2
}
