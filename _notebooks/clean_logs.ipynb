{
 "cells": [
  {
   "cell_type": "code",
   "execution_count": 1,
   "metadata": {},
   "outputs": [],
   "source": [
    "%load_ext autoreload\n",
    "%autoreload 2\n",
    "import sys\n",
    "sys.path.append(\"..\")\n",
    "sys.path.append(\"../..\")"
   ]
  },
  {
   "cell_type": "code",
   "execution_count": 25,
   "metadata": {},
   "outputs": [],
   "source": [
    "import os\n",
    "import json\n",
    "import shutil\n",
    "import math\n",
    "import numpy as np\n",
    "import pandas as pd\n",
    "import matplotlib.pyplot as plt\n",
    "\n",
    "from datetime import datetime\n",
    "import traceback\n",
    "\n",
    "from ratbench.logging import GameDecoder\n",
    "from ratbench.game_objects.game import Game\n",
    "from games import *\n",
    "from ratbench.constants import *"
   ]
  },
  {
   "cell_type": "code",
   "execution_count": 45,
   "metadata": {},
   "outputs": [],
   "source": [
    "def clean_logs(log_dir: str, error_dir: str):\n",
    "\n",
    "    state_paths = sorted(\n",
    "        [os.path.join(log_dir, f, \"game_state.json\") for f in os.listdir(log_dir)]\n",
    "    )\n",
    "    game_states = []\n",
    "    for path in state_paths:\n",
    "        try:\n",
    "            with open(path) as f:\n",
    "                game = Game.from_dict(json.load(f, cls=GameDecoder))\n",
    "                # we only want games which have ended\n",
    "                assert (\n",
    "                    game.game_state[-1][\"current_iteration\"] == \"END\"\n",
    "                ), \"WARNING : Game  {} has not ended\\n\".format(path)\n",
    "                game_states.append(game)\n",
    "\n",
    "        except Exception as e:\n",
    "            exception_message = str(e)\n",
    "            print(f\"Exception Message: {exception_message}\")\n",
    "            \n",
    "            proj_dir = os.path.join(*os.path.split(path)[:-1])\n",
    "            proj_dir_new = proj_dir.replace(log_dir, error_dir)\n",
    "            os.makedirs(proj_dir_new, exist_ok=True)\n",
    "            print(\"Created Directory : {}\".format(proj_dir_new))\n",
    "        \n",
    "            print(f\"Moving from {proj_dir} to {proj_dir_new}\")\n",
    "            shutil.move(proj_dir, proj_dir_new)\n",
    "            \n",
    "\n",
    "    print(\"THERE ARE {} log files\".format(len(state_paths)))\n",
    "    print(\"{} Loaded Successfully\".format(len(game_states)))\n",
    "    print(\"{} Erroneous\".format(len(state_paths)-len(game_states)))\n",
    "    print(f\"{log_dir} HAS:  {len(os.listdir(log_dir))} files\")\n",
    "    print(f\"{error_dir} HAS:  {len(os.listdir(error_dir))} files\")"
   ]
  },
  {
   "cell_type": "code",
   "execution_count": 48,
   "metadata": {},
   "outputs": [
    {
     "name": "stdout",
     "output_type": "stream",
     "text": [
      "THERE ARE 100 log files\n",
      "100 Loaded Successfully\n",
      "0 Erroneous\n",
      "/Users/patrickjohnchia/Desktop/Projects/negotiation/analysis/buyer_seller/.logs/split_the_difference HAS:  100 files\n",
      "/Users/patrickjohnchia/Desktop/Projects/negotiation/analysis/buyer_seller/.logs_error/split_the_difference HAS:  18 files\n",
      "Exception Message: WARNING : Game  /Users/patrickjohnchia/Desktop/Projects/negotiation/analysis/buyer_seller/.logs/over_valued_buyer/1702817593639/game_state.json has not ended\n",
      "\n",
      "Created Directory : /Users/patrickjohnchia/Desktop/Projects/negotiation/analysis/buyer_seller/.logs_error/over_valued_buyer/1702817593639\n",
      "Moving from /Users/patrickjohnchia/Desktop/Projects/negotiation/analysis/buyer_seller/.logs/over_valued_buyer/1702817593639 to /Users/patrickjohnchia/Desktop/Projects/negotiation/analysis/buyer_seller/.logs_error/over_valued_buyer/1702817593639\n",
      "Exception Message: WARNING : Game  /Users/patrickjohnchia/Desktop/Projects/negotiation/analysis/buyer_seller/.logs/over_valued_buyer/1702820238880/game_state.json has not ended\n",
      "\n",
      "Created Directory : /Users/patrickjohnchia/Desktop/Projects/negotiation/analysis/buyer_seller/.logs_error/over_valued_buyer/1702820238880\n",
      "Moving from /Users/patrickjohnchia/Desktop/Projects/negotiation/analysis/buyer_seller/.logs/over_valued_buyer/1702820238880 to /Users/patrickjohnchia/Desktop/Projects/negotiation/analysis/buyer_seller/.logs_error/over_valued_buyer/1702820238880\n",
      "Exception Message: WARNING : Game  /Users/patrickjohnchia/Desktop/Projects/negotiation/analysis/buyer_seller/.logs/over_valued_buyer/1702821044026/game_state.json has not ended\n",
      "\n",
      "Created Directory : /Users/patrickjohnchia/Desktop/Projects/negotiation/analysis/buyer_seller/.logs_error/over_valued_buyer/1702821044026\n",
      "Moving from /Users/patrickjohnchia/Desktop/Projects/negotiation/analysis/buyer_seller/.logs/over_valued_buyer/1702821044026 to /Users/patrickjohnchia/Desktop/Projects/negotiation/analysis/buyer_seller/.logs_error/over_valued_buyer/1702821044026\n",
      "THERE ARE 103 log files\n",
      "100 Loaded Successfully\n",
      "3 Erroneous\n",
      "/Users/patrickjohnchia/Desktop/Projects/negotiation/analysis/buyer_seller/.logs/over_valued_buyer HAS:  100 files\n",
      "/Users/patrickjohnchia/Desktop/Projects/negotiation/analysis/buyer_seller/.logs_error/over_valued_buyer HAS:  3 files\n",
      "Exception Message: WARNING : Game  /Users/patrickjohnchia/Desktop/Projects/negotiation/analysis/buyer_seller/.logs/over_valued_buyer_self_interested/1702826499033/game_state.json has not ended\n",
      "\n",
      "Created Directory : /Users/patrickjohnchia/Desktop/Projects/negotiation/analysis/buyer_seller/.logs_error/over_valued_buyer_self_interested/1702826499033\n",
      "Moving from /Users/patrickjohnchia/Desktop/Projects/negotiation/analysis/buyer_seller/.logs/over_valued_buyer_self_interested/1702826499033 to /Users/patrickjohnchia/Desktop/Projects/negotiation/analysis/buyer_seller/.logs_error/over_valued_buyer_self_interested/1702826499033\n",
      "Exception Message: WARNING : Game  /Users/patrickjohnchia/Desktop/Projects/negotiation/analysis/buyer_seller/.logs/over_valued_buyer_self_interested/1702826936300/game_state.json has not ended\n",
      "\n",
      "Created Directory : /Users/patrickjohnchia/Desktop/Projects/negotiation/analysis/buyer_seller/.logs_error/over_valued_buyer_self_interested/1702826936300\n",
      "Moving from /Users/patrickjohnchia/Desktop/Projects/negotiation/analysis/buyer_seller/.logs/over_valued_buyer_self_interested/1702826936300 to /Users/patrickjohnchia/Desktop/Projects/negotiation/analysis/buyer_seller/.logs_error/over_valued_buyer_self_interested/1702826936300\n",
      "Exception Message: WARNING : Game  /Users/patrickjohnchia/Desktop/Projects/negotiation/analysis/buyer_seller/.logs/over_valued_buyer_self_interested/1702830144880/game_state.json has not ended\n",
      "\n",
      "Created Directory : /Users/patrickjohnchia/Desktop/Projects/negotiation/analysis/buyer_seller/.logs_error/over_valued_buyer_self_interested/1702830144880\n",
      "Moving from /Users/patrickjohnchia/Desktop/Projects/negotiation/analysis/buyer_seller/.logs/over_valued_buyer_self_interested/1702830144880 to /Users/patrickjohnchia/Desktop/Projects/negotiation/analysis/buyer_seller/.logs_error/over_valued_buyer_self_interested/1702830144880\n",
      "THERE ARE 103 log files\n",
      "100 Loaded Successfully\n",
      "3 Erroneous\n",
      "/Users/patrickjohnchia/Desktop/Projects/negotiation/analysis/buyer_seller/.logs/over_valued_buyer_self_interested HAS:  100 files\n",
      "/Users/patrickjohnchia/Desktop/Projects/negotiation/analysis/buyer_seller/.logs_error/over_valued_buyer_self_interested HAS:  3 files\n"
     ]
    }
   ],
   "source": [
    "base_log_path = \"/Users/patrickjohnchia/Desktop/Projects/negotiation/analysis/buyer_seller/\"\n",
    "input_dir = \".logs\"\n",
    "error_dir = \".logs_error\"\n",
    "log_name = \"split_the_difference\"\n",
    "for log_name in [\"split_the_difference\", \"over_valued_buyer\", \"over_valued_buyer_self_interested\" ]:\n",
    "    clean_logs(os.path.join(base_log_path, input_dir, log_name),\n",
    "            os.path.join(base_log_path, error_dir, log_name))\n"
   ]
  },
  {
   "cell_type": "code",
   "execution_count": null,
   "metadata": {},
   "outputs": [],
   "source": []
  }
 ],
 "metadata": {
  "kernelspec": {
   "display_name": ".venv",
   "language": "python",
   "name": "python3"
  },
  "language_info": {
   "codemirror_mode": {
    "name": "ipython",
    "version": 3
   },
   "file_extension": ".py",
   "mimetype": "text/x-python",
   "name": "python",
   "nbconvert_exporter": "python",
   "pygments_lexer": "ipython3",
   "version": "3.8.2"
  }
 },
 "nbformat": 4,
 "nbformat_minor": 2
}
