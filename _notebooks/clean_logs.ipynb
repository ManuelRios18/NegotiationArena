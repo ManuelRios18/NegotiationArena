{
 "cells": [
  {
   "cell_type": "code",
   "execution_count": 2,
   "metadata": {},
   "outputs": [],
   "source": [
    "%load_ext autoreload\n",
    "%autoreload 2\n",
    "import sys\n",
    "sys.path.append(\"..\")\n",
    "sys.path.append(\"../..\")"
   ]
  },
  {
   "cell_type": "code",
   "execution_count": 3,
   "metadata": {},
   "outputs": [],
   "source": [
    "import os\n",
    "import json\n",
    "import shutil\n",
    "import math\n",
    "import numpy as np\n",
    "import pandas as pd\n",
    "import matplotlib.pyplot as plt\n",
    "\n",
    "from datetime import datetime\n",
    "import traceback\n",
    "\n",
    "from ratbench.logging import GameDecoder\n",
    "from ratbench.game_objects.game import Game\n",
    "from games import *\n",
    "from ratbench.constants import *"
   ]
  },
  {
   "cell_type": "code",
   "execution_count": 10,
   "metadata": {},
   "outputs": [],
   "source": [
    "def clean_logs(log_dir: str, error_dir: str):\n",
    "\n",
    "    state_paths = sorted(\n",
    "        [os.path.join(log_dir, f, \"game_state.json\") for f in os.listdir(log_dir)]\n",
    "    )\n",
    "    game_states = []\n",
    "    for path in state_paths:\n",
    "        try:\n",
    "            with open(path) as f:\n",
    "                game = Game.from_dict(json.load(f, cls=GameDecoder))\n",
    "                # we only want games which have ended\n",
    "                assert (\n",
    "                    game.game_state[-1][\"current_iteration\"] == \"END\"\n",
    "                ), \"WARNING : Game  {} has not ended\\n\".format(path)\n",
    "                game_states.append(game)\n",
    "\n",
    "        except Exception as e:\n",
    "            exception_message = str(e)\n",
    "            print(f\"Exception Message: {exception_message}\")\n",
    "            \n",
    "            proj_dir = os.path.join(*os.path.split(path)[:-1])\n",
    "            proj_dir_new = proj_dir.replace(log_dir, error_dir)\n",
    "            os.makedirs(error_dir, exist_ok=True)\n",
    "            print(\"Created Directory : {}\".format(proj_dir_new))\n",
    "        \n",
    "            print(f\"Moving from {proj_dir} to {error_dir}\")\n",
    "\n",
    "            shutil.move(proj_dir, error_dir)\n",
    "\n",
    "    print(\"THERE ARE {} log files\".format(len(state_paths)))\n",
    "    print(\"{} Loaded Successfully\".format(len(game_states)))\n",
    "    print(\"{} Erroneous\".format(len(state_paths)-len(game_states)))\n",
    "    print(f\"{log_dir} HAS:  {len(os.listdir(log_dir))} files\")\n",
    "    print(f\"{error_dir} HAS:  {len(os.listdir(error_dir))} files\")"
   ]
  },
  {
   "cell_type": "code",
   "execution_count": 14,
   "metadata": {},
   "outputs": [
    {
     "name": "stdout",
     "output_type": "stream",
     "text": [
      "THERE ARE 240 log files\n",
      "240 Loaded Successfully\n",
      "0 Erroneous\n",
      "/Users/patrickjohnchia/Desktop/Projects/negotiation/experiments/section_one/.logs/ultimatum_multi_section_one HAS:  240 files\n",
      "/Users/patrickjohnchia/Desktop/Projects/negotiation/experiments/section_one/.logs_error/ultimatum_multi_section_one HAS:  22 files\n"
     ]
    }
   ],
   "source": [
    "# base_log_path = \"/Users/patrickjohnchia/Desktop/Projects/negotiation/analysis/buyer_seller/\"\n",
    "base_log_path = \"/Users/patrickjohnchia/Desktop/Projects/negotiation/experiments/section_one/\"\n",
    "input_dir = \".logs\"\n",
    "error_dir = \".logs_error\"\n",
    "log_name = \"split_the_difference\"\n",
    "for log_name in [\"social_behaviors_buy_sell\", \"social_behaviors_trading\", \"social_behaviors_ultimatum\" ]:\n",
    "    clean_logs(os.path.join(base_log_path, input_dir, log_name),\n",
    "            os.path.join(base_log_path, error_dir, log_name))\n"
   ]
  },
  {
   "cell_type": "code",
   "execution_count": 18,
   "metadata": {},
   "outputs": [],
   "source": [
    "# p = \"/Users/patrickjohnchia/Desktop/Projects/negotiation/analysis/buyer_seller/.logs_error/split_the_difference\"\n",
    "# for f in os.listdir(p):\n",
    "#     full_path = os.path.join(p, f)\n",
    "#     wrong_path = os.path.join(full_path,f)\n",
    "#     for _ in os.listdir(wrong_path):\n",
    "#         # print(os.path.join(wrong_path,full_path))\n",
    "#         # print(full_path)\n",
    "#         # shutil.move(os.path.join(wrong_path,_), full_path)\n",
    "#         # os.removedirs(os.path.join(wrong_path))\n",
    "#         os.rmdir(os.path.join(wrong_path))"
   ]
  },
  {
   "cell_type": "code",
   "execution_count": null,
   "metadata": {},
   "outputs": [],
   "source": []
  }
 ],
 "metadata": {
  "kernelspec": {
   "display_name": ".venv",
   "language": "python",
   "name": "python3"
  },
  "language_info": {
   "codemirror_mode": {
    "name": "ipython",
    "version": 3
   },
   "file_extension": ".py",
   "mimetype": "text/x-python",
   "name": "python",
   "nbconvert_exporter": "python",
   "pygments_lexer": "ipython3",
   "version": "3.8.2"
  }
 },
 "nbformat": 4,
 "nbformat_minor": 2
}
