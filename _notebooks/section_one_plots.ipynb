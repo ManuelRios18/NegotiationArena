{
 "cells": [
  {
   "cell_type": "code",
   "execution_count": 3,
   "id": "ccdcde74-5180-45b3-a267-ff47581efdec",
   "metadata": {},
   "outputs": [],
   "source": [
    "import sys\n",
    "sys.path.append(\"..\")\n",
    "import os\n",
    "import json\n",
    "import seaborn as sns\n",
    "from collections import Counter\n",
    "import openai\n",
    "import numpy as np\n",
    "import pandas as pd\n",
    "from explorer.utils import load_states_from_dir\n",
    "from games.ultimatum.ultimatum_multi_turn.game import MultiTurnUltimatumGame\n",
    "import itertools\n",
    "from collections import defaultdict\n",
    "import os\n",
    "import json\n",
    "import openai\n",
    "import numpy as np\n",
    "import pandas as pd\n",
    "from explorer.utils import load_states_from_dir\n"
   ]
  },
  {
   "cell_type": "code",
   "execution_count": null,
   "id": "682f4e5c-5cda-4216-9914-9c040871af8d",
   "metadata": {},
   "outputs": [],
   "source": []
  },
  {
   "cell_type": "code",
   "execution_count": 2,
   "id": "1c8376c6-0f67-464b-9d4e-25249197353e",
   "metadata": {},
   "outputs": [
    {
     "name": "stdout",
     "output_type": "stream",
     "text": [
      "env: OPENAI_API_KEY=\"g\"\n"
     ]
    }
   ],
   "source": [
    "%env OPENAI_API_KEY=\"g\""
   ]
  },
  {
   "cell_type": "code",
   "execution_count": 4,
   "id": "a25e10a1-b80e-45e2-8741-d98dab17dd36",
   "metadata": {},
   "outputs": [],
   "source": [
    "def get_from_summary(key, game_state, default=None):\n",
    "    if key in game_state.game_state[-1]['summary']:\n",
    "        return game_state.game_state[-1]['summary'][key]\n",
    "    else:\n",
    "        return default\n",
    "\n",
    "def compute_game_summary(game_states):\n",
    "\n",
    "    game_name = np.array([g.__class__.__name__ for g in game_states])[:, None]\n",
    "    models = np.array([[ p.model for p in g.players] for g in game_states])\n",
    "    outcomes = np.array([get_from_summary('player_outcome', g) for g in game_states])\n",
    "    valuations = np.array([get_from_summary('player_valuation', g, default=[None,None])  for g in game_states])\n",
    "    initial_resources = np.array([get_from_summary('initial_resources', g) for g in game_states])\n",
    "    final_resources = np.array([get_from_summary('final_resources', g) for g in game_states]), \n",
    "    resources_delta = (final_resources-initial_resources)[0]\n",
    "        \n",
    "    resources_delta = np.array([v.value(r) if v else r.value() for r,v in zip(resources_delta.reshape(-1,), valuations.reshape(-1))])\n",
    "    resources_delta = resources_delta.reshape(-1, 2)\n",
    "\n",
    "    social_behavior = np.array([g.player_social_behaviour for g in game_states])\n",
    "    social_behavior = social_behavior.reshape(-1, 2)\n",
    "\n",
    "    \n",
    "    df = np.concatenate((game_name, models, outcomes,  resources_delta, social_behavior), axis=1)\n",
    "    df = pd.DataFrame(df, columns=['game_name','model_1','model_2','outcome_1','outcome_2', 'resource_delta_1', 'resource_delta_2', \"social_1\", \"social_2\"])\n",
    "\n",
    "    return df\n",
    "      \n",
    "def join_names(one, two):\n",
    "    one, two = set([one,two])\n",
    "    return one + \"#\" + two"
   ]
  },
  {
   "cell_type": "code",
   "execution_count": 102,
   "id": "ca41882f-34e4-4601-8351-31dba703f57b",
   "metadata": {},
   "outputs": [],
   "source": [
    "# Need to update this with PJC code\n",
    "\n",
    "def collect_and_plot_heatmap(df_, AGENTS, AGENTS_CLEAN, PAIRS_OF_AGENTS, debug=False):\n",
    "\n",
    "    winner_resource_delta_collection = defaultdict(list)\n",
    "\n",
    "    # for all games, we compute best model or draw\n",
    "    for index, row in df_.iterrows():\n",
    "        m1 = row[\"model_1\"]\n",
    "        m2 = row[\"model_2\"]\n",
    "        \n",
    "        if row[\"resource_delta_1\"] > row[\"resource_delta_2\"]:\n",
    "            winner_resource_delta_collection[f\"{m1}#{m2}\"].append(m1)\n",
    "        elif row[\"resource_delta_1\"] < row[\"resource_delta_2\"]:\n",
    "            winner_resource_delta_collection[f\"{m1}#{m2}\"].append(m2)\n",
    "        else:\n",
    "            winner_resource_delta_collection[f\"{m1}#{m2}\"].append(\"draw\")\n",
    "\n",
    "    # we compute results in both game directions\n",
    "    final_aggregate = defaultdict(list)\n",
    "    seen = set()\n",
    "    \n",
    "    for agent1, agent2 in PAIRS_OF_AGENTS:\n",
    "        if f\"{agent1}#{agent2}\" in seen or f\"{agent2}#{agent1}\" in seen:\n",
    "            continue\n",
    "        else:\n",
    "            seen.add(f\"{agent1}#{agent2}\")\n",
    "            seen.add(f\"{agent2}#{agent1}\")\n",
    "\n",
    "        winnings_direction_one = winner_resource_delta_collection[f\"{agent1}#{agent2}\"]\n",
    "        winnings_direction_two = winner_resource_delta_collection[f\"{agent2}#{agent1}\"]\n",
    "\n",
    "        all_winnings = winnings_direction_one + winnings_direction_two\n",
    "        \n",
    "        aggregated_winners = dict(Counter(all_winnings))\n",
    "        \n",
    "        total_number_of_games = sum(aggregated_winners.values())\n",
    "\n",
    "        # avoding errors cuz div by 0\n",
    "        if agent1 not in aggregated_winners:\n",
    "            aggregated_winners[agent1] = 0.000001\n",
    "        if agent2 not in aggregated_winners:\n",
    "            aggregated_winners[agent2] = 0.000001  \n",
    "        \n",
    "        final_aggregate[agent1+agent2] = aggregated_winners[agent1]/ \\\n",
    "                                        (aggregated_winners[agent1]+aggregated_winners[agent2])\n",
    "        final_aggregate[agent2+agent1] = aggregated_winners[agent2]/ \\\n",
    "                                        (aggregated_winners[agent1]+aggregated_winners[agent2])\n",
    "        if debug:\n",
    "            print(\"----------------------------------\")\n",
    "            print(agent1,agent2)\n",
    "            print()\n",
    "            for i, j in d.items(): \n",
    "                score = round(j/total_number_of_games, 2)\n",
    "                print(f\"\\tWinRate {i}: {score}\")\n",
    "\n",
    "    l2 = []\n",
    "    for agent in AGENTS:\n",
    "        l = []\n",
    "        for agent2 in AGENTS:\n",
    "            if agent+agent2 in final_aggregate:\n",
    "                l.append(final_aggregate[agent+agent2])\n",
    "            elif agent2+agent in final_aggregate:\n",
    "                l.append(final_aggregate[agent2+agent])\n",
    "            else:\n",
    "                l.append(1)\n",
    "        l2.append(l)\n",
    "    return np.array(l2)\n"
   ]
  },
  {
   "cell_type": "markdown",
   "id": "993b23a3-eea7-4a93-9c6f-c77cc163952e",
   "metadata": {},
   "source": [
    "# Section One"
   ]
  },
  {
   "cell_type": "markdown",
   "id": "97dd32ac-11ed-4a97-8215-4722ae4c86b6",
   "metadata": {},
   "source": [
    "## Trading"
   ]
  },
  {
   "cell_type": "code",
   "execution_count": 122,
   "id": "7fa9ec2e-14df-4264-9084-3de207abb811",
   "metadata": {},
   "outputs": [
    {
     "name": "stdout",
     "output_type": "stream",
     "text": [
      "THERE ARE 471 log files\n",
      "471 Loaded Successfully\n"
     ]
    }
   ],
   "source": [
    "log_dir = \"../experiments/section_one/.logs/trading_section_one/\"\n",
    "game_states = load_states_from_dir(log_dir) #+ load_states_from_dir(log_dir) \n",
    "df = compute_game_summary(game_states)"
   ]
  },
  {
   "cell_type": "markdown",
   "id": "6ff8e157-679c-48bb-b324-46d987c63035",
   "metadata": {},
   "source": [
    "### WinRate"
   ]
  },
  {
   "cell_type": "code",
   "execution_count": 123,
   "id": "7fa8fe5d-45ee-4fcf-b62c-5817b15b1942",
   "metadata": {},
   "outputs": [
    {
     "data": {
      "image/png": "[encoded data removed]",
      "text/plain": [
       "<Figure size 640x480 with 2 Axes>"
      ]
     },
     "metadata": {},
     "output_type": "display_data"
    }
   ],
   "source": [
    "AGENTS = [\"gpt-4-1106-preview\", \"claude-2.1\", \"claude-2\", \"gpt-3.5-turbo-1106\",]\n",
    "AGENTS_CLEAN_NAMES = [\"GPT-4\", \"Claude-2.1\", \"Claude-2\", \"GPT-3.5\"]\n",
    "PAIRS_OF_AGENTS = [[x, y] for x, y in itertools.product(AGENTS, AGENTS) if x != y]\n",
    "\n",
    "l2 = collect_and_plot_heatmap(df, AGENTS, AGENTS_CLEAN_NAMES, PAIRS_OF_AGENTS)\n",
    "mask = np.eye(l2.shape[0], dtype=bool)\n",
    "\n",
    "figu = sns.heatmap(l2, annot=True, mask=mask, fmt=\".2f\", yticklabels=AGENTS_CLEAN_NAMES, xticklabels=AGENTS_CLEAN_NAMES)\n",
    "fig = figu.get_figure()\n",
    "fig.savefig(\"figures/section_one_trading_winrate.pdf\") "
   ]
  },
  {
   "cell_type": "markdown",
   "id": "e66cb842-e369-46cc-91b5-ede3781b679c",
   "metadata": {},
   "source": [
    "### Payoff"
   ]
  },
  {
   "cell_type": "code",
   "execution_count": 124,
   "id": "2075d121-8e5c-4925-a34a-c817a8827d88",
   "metadata": {},
   "outputs": [],
   "source": [
    "rename_dict = {k:v for k,v in zip(AGENTS, AGENTS_CLEAN_NAMES)}"
   ]
  },
  {
   "cell_type": "code",
   "execution_count": 173,
   "id": "5b1d3fab-9aac-4af0-ae58-e7b6f832c0d1",
   "metadata": {},
   "outputs": [],
   "source": []
  },
  {
   "cell_type": "code",
   "execution_count": null,
   "id": "69603efa-0662-4864-9d07-458fa41f13e0",
   "metadata": {},
   "outputs": [],
   "source": []
  },
  {
   "cell_type": "code",
   "execution_count": 174,
   "id": "8b8aaebe-841f-46b9-816c-e14529e4146f",
   "metadata": {},
   "outputs": [],
   "source": []
  },
  {
   "cell_type": "code",
   "execution_count": 166,
   "id": "0a07f484-4834-41bb-8e02-dfc4a57b230a",
   "metadata": {},
   "outputs": [
    {
     "data": {
      "text/plain": [
       "MultiIndex([(       'game_name',     ''),\n",
       "            (          'models',     ''),\n",
       "            (           'win_1', 'mean'),\n",
       "            (           'win_2', 'mean'),\n",
       "            ('resource_delta_1', 'mean'),\n",
       "            ('resource_delta_2', 'mean'),\n",
       "            (         'model_1',     ''),\n",
       "            (         'model_2',     '')],\n",
       "           )"
      ]
     },
     "execution_count": 166,
     "metadata": {},
     "output_type": "execute_result"
    }
   ],
   "source": [
    "df_copy.columns"
   ]
  },
  {
   "cell_type": "code",
   "execution_count": 184,
   "id": "ac545e59-7eec-4b75-8ed7-6323a7e86e2c",
   "metadata": {},
   "outputs": [],
   "source": []
  },
  {
   "cell_type": "code",
   "execution_count": 183,
   "id": "cbe4d792-7c0f-4f69-97fd-fb407047345f",
   "metadata": {},
   "outputs": [
    {
     "data": {
      "text/html": [
       "<div>\n",
       "<style scoped>\n",
       "    .dataframe tbody tr th:only-of-type {\n",
       "        vertical-align: middle;\n",
       "    }\n",
       "\n",
       "    .dataframe tbody tr th {\n",
       "        vertical-align: top;\n",
       "    }\n",
       "\n",
       "    .dataframe thead th {\n",
       "        text-align: right;\n",
       "    }\n",
       "</style>\n",
       "<table border=\"1\" class=\"dataframe\">\n",
       "  <thead>\n",
       "    <tr style=\"text-align: right;\">\n",
       "      <th></th>\n",
       "      <th>winrate</th>\n",
       "      <th>payoff</th>\n",
       "      <th>model_1</th>\n",
       "      <th>model_2</th>\n",
       "    </tr>\n",
       "  </thead>\n",
       "  <tbody>\n",
       "    <tr>\n",
       "      <th>0</th>\n",
       "      <td>0.394366</td>\n",
       "      <td>1.140845</td>\n",
       "      <td>Claude-2.1</td>\n",
       "      <td>GPT-3.5</td>\n",
       "    </tr>\n",
       "    <tr>\n",
       "      <th>1</th>\n",
       "      <td>0.337500</td>\n",
       "      <td>0.525000</td>\n",
       "      <td>Claude-2.1</td>\n",
       "      <td>GPT-4</td>\n",
       "    </tr>\n",
       "    <tr>\n",
       "      <th>2</th>\n",
       "      <td>0.312500</td>\n",
       "      <td>-0.300000</td>\n",
       "      <td>Claude-2</td>\n",
       "      <td>Claude-2.1</td>\n",
       "    </tr>\n",
       "    <tr>\n",
       "      <th>3</th>\n",
       "      <td>0.375000</td>\n",
       "      <td>1.287500</td>\n",
       "      <td>Claude-2</td>\n",
       "      <td>GPT-3.5</td>\n",
       "    </tr>\n",
       "    <tr>\n",
       "      <th>4</th>\n",
       "      <td>0.325000</td>\n",
       "      <td>0.275000</td>\n",
       "      <td>Claude-2</td>\n",
       "      <td>GPT-4</td>\n",
       "    </tr>\n",
       "    <tr>\n",
       "      <th>5</th>\n",
       "      <td>0.150000</td>\n",
       "      <td>-0.887500</td>\n",
       "      <td>GPT-3.5</td>\n",
       "      <td>GPT-4</td>\n",
       "    </tr>\n",
       "    <tr>\n",
       "      <th>6</th>\n",
       "      <td>0.140845</td>\n",
       "      <td>-1.140845</td>\n",
       "      <td>GPT-3.5</td>\n",
       "      <td>GPT-3.5</td>\n",
       "    </tr>\n",
       "    <tr>\n",
       "      <th>7</th>\n",
       "      <td>0.425000</td>\n",
       "      <td>-0.525000</td>\n",
       "      <td>GPT-4</td>\n",
       "      <td>GPT-4</td>\n",
       "    </tr>\n",
       "    <tr>\n",
       "      <th>8</th>\n",
       "      <td>0.300000</td>\n",
       "      <td>0.300000</td>\n",
       "      <td>Claude-2.1</td>\n",
       "      <td>Claude-2.1</td>\n",
       "    </tr>\n",
       "    <tr>\n",
       "      <th>9</th>\n",
       "      <td>0.125000</td>\n",
       "      <td>-1.287500</td>\n",
       "      <td>GPT-3.5</td>\n",
       "      <td>GPT-3.5</td>\n",
       "    </tr>\n",
       "    <tr>\n",
       "      <th>10</th>\n",
       "      <td>0.487500</td>\n",
       "      <td>-0.275000</td>\n",
       "      <td>GPT-4</td>\n",
       "      <td>GPT-4</td>\n",
       "    </tr>\n",
       "    <tr>\n",
       "      <th>11</th>\n",
       "      <td>0.437500</td>\n",
       "      <td>0.887500</td>\n",
       "      <td>GPT-4</td>\n",
       "      <td>GPT-4</td>\n",
       "    </tr>\n",
       "  </tbody>\n",
       "</table>\n",
       "</div>"
      ],
      "text/plain": [
       "     winrate    payoff     model_1     model_2\n",
       "0   0.394366  1.140845  Claude-2.1     GPT-3.5\n",
       "1   0.337500  0.525000  Claude-2.1       GPT-4\n",
       "2   0.312500 -0.300000    Claude-2  Claude-2.1\n",
       "3   0.375000  1.287500    Claude-2     GPT-3.5\n",
       "4   0.325000  0.275000    Claude-2       GPT-4\n",
       "5   0.150000 -0.887500     GPT-3.5       GPT-4\n",
       "6   0.140845 -1.140845     GPT-3.5     GPT-3.5\n",
       "7   0.425000 -0.525000       GPT-4       GPT-4\n",
       "8   0.300000  0.300000  Claude-2.1  Claude-2.1\n",
       "9   0.125000 -1.287500     GPT-3.5     GPT-3.5\n",
       "10  0.487500 -0.275000       GPT-4       GPT-4\n",
       "11  0.437500  0.887500       GPT-4       GPT-4"
      ]
     },
     "execution_count": 183,
     "metadata": {},
     "output_type": "execute_result"
    }
   ],
   "source": [
    "df_gg"
   ]
  },
  {
   "cell_type": "code",
   "execution_count": 185,
   "id": "f30442cc-0b27-4885-b108-9c2d1e2f442a",
   "metadata": {},
   "outputs": [
    {
     "data": {
      "text/html": [
       "<div>\n",
       "<style scoped>\n",
       "    .dataframe tbody tr th:only-of-type {\n",
       "        vertical-align: middle;\n",
       "    }\n",
       "\n",
       "    .dataframe tbody tr th {\n",
       "        vertical-align: top;\n",
       "    }\n",
       "\n",
       "    .dataframe thead th {\n",
       "        text-align: right;\n",
       "    }\n",
       "</style>\n",
       "<table border=\"1\" class=\"dataframe\">\n",
       "  <thead>\n",
       "    <tr style=\"text-align: right;\">\n",
       "      <th>model_2</th>\n",
       "      <th>Claude-2</th>\n",
       "      <th>Claude-2.1</th>\n",
       "      <th>GPT-3.5</th>\n",
       "      <th>GPT-4</th>\n",
       "    </tr>\n",
       "    <tr>\n",
       "      <th>model_1</th>\n",
       "      <th></th>\n",
       "      <th></th>\n",
       "      <th></th>\n",
       "      <th></th>\n",
       "    </tr>\n",
       "  </thead>\n",
       "  <tbody>\n",
       "    <tr>\n",
       "      <th>Claude-2</th>\n",
       "      <td>NaN</td>\n",
       "      <td>-0.300000</td>\n",
       "      <td>1.287500</td>\n",
       "      <td>0.2750</td>\n",
       "    </tr>\n",
       "    <tr>\n",
       "      <th>Claude-2.1</th>\n",
       "      <td>0.3000</td>\n",
       "      <td>NaN</td>\n",
       "      <td>1.140845</td>\n",
       "      <td>0.5250</td>\n",
       "    </tr>\n",
       "    <tr>\n",
       "      <th>GPT-3.5</th>\n",
       "      <td>-1.2875</td>\n",
       "      <td>-1.140845</td>\n",
       "      <td>NaN</td>\n",
       "      <td>-0.8875</td>\n",
       "    </tr>\n",
       "    <tr>\n",
       "      <th>GPT-4</th>\n",
       "      <td>-0.2750</td>\n",
       "      <td>-0.525000</td>\n",
       "      <td>0.887500</td>\n",
       "      <td>NaN</td>\n",
       "    </tr>\n",
       "  </tbody>\n",
       "</table>\n",
       "</div>"
      ],
      "text/plain": [
       "model_2     Claude-2  Claude-2.1   GPT-3.5   GPT-4\n",
       "model_1                                           \n",
       "Claude-2         NaN   -0.300000  1.287500  0.2750\n",
       "Claude-2.1    0.3000         NaN  1.140845  0.5250\n",
       "GPT-3.5      -1.2875   -1.140845       NaN -0.8875\n",
       "GPT-4        -0.2750   -0.525000  0.887500     NaN"
      ]
     },
     "execution_count": 185,
     "metadata": {},
     "output_type": "execute_result"
    }
   ],
   "source": []
  },
  {
   "cell_type": "code",
   "execution_count": 187,
   "id": "c08f8ffc-5b16-40eb-907f-9c1fa34738c4",
   "metadata": {},
   "outputs": [],
   "source": [
    "df_copy = df.copy()\n",
    "df_copy[\"model_1\"] = df_copy[\"model_1\"].replace(rename_dict)\n",
    "df_copy[\"model_2\"] = df_copy[\"model_2\"].replace(rename_dict)\n",
    "\n",
    "df_copy['models'] = df_copy['model_1'] + '@' + df_copy['model_2']\n",
    "df_copy['models'] = df_copy['models'].apply(lambda v: \"@\".join(sorted(v.split('@'))))\n",
    "\n",
    "# swap cells which are re-ordered\n",
    "to_swap = df_copy['model_1'] > df_copy['model_2'] \n",
    "temp = df_copy['resource_delta_1'][to_swap].copy()\n",
    "df_copy['resource_delta_1'][to_swap] = df_copy['resource_delta_2'][to_swap]\n",
    "df_copy['resource_delta_2'][to_swap] = temp\n",
    "\n",
    "df_copy['win_1'] = df_copy['resource_delta_1'] > df_copy['resource_delta_2']\n",
    "df_copy['win_2'] =df_copy['resource_delta_1'] < df_copy['resource_delta_2']\n",
    "df_copy['draw'] = df_copy['resource_delta_1'] == df_copy['resource_delta_2']\n",
    "\n",
    "df_copy = df_copy.groupby(['game_name', 'models'])[[ 'win_1', 'win_2', 'resource_delta_1', 'resource_delta_2']].agg(['mean',]).reset_index()\n",
    "\n",
    "df_copy[['model_1', 'model_2']] = df_copy['models'].str.split('@', n=1, expand=True)\n",
    "win_rates = df_copy[\"win_1\"][\"mean\"].tolist() + df_copy[\"win_2\"][\"mean\"].tolist()\n",
    "payoffs = df_copy[\"resource_delta_1\"][\"mean\"].tolist() + df_copy[\"resource_delta_2\"][\"mean\"].tolist()\n",
    "model1 = df_copy[\"model_1\"].tolist() + df_copy[\"model_2\"].tolist()\n",
    "model2  = df_copy[\"model_2\"].tolist() + df_copy[\"model_1\"].tolist()\n",
    "aggregated = pd.DataFrame({\"winrate\" : win_rates, \"payoff\" : payoffs, \"model_1\" : model1, \"model_2\" : model2})\n",
    "aggregated = aggregated.pivot(index=\"model_1\", columns=\"model_2\", values=\"payoff\")\n",
    "\n",
    "\n",
    "# aggregated = df_copy.groupby([\"model_1\", \"model_2\"])[['resource_delta_1', 'resource_delta_2']].mean().reset_index()\n",
    "# aggregated[\"join\"] = aggregated.apply(lambda x : join_names(x.model_1, x.model_2), axis=1)\n",
    "\n",
    "#aggregated = aggregated.groupby([\"join\"])[['resource_delta_1', 'resource_delta_2']].mean().reset_index()\n",
    "#aggregated[['model_1', 'model_2']] = aggregated['join'].str.split('#', n=1, expand=True)\n",
    "\n",
    "#aggregated.pivot(index=\"model_1\", columns=\"model_2\", values=\"resource_delta_1\")"
   ]
  },
  {
   "cell_type": "code",
   "execution_count": null,
   "id": "2c828c98-728c-4efd-9818-badfcd049866",
   "metadata": {},
   "outputs": [],
   "source": []
  },
  {
   "cell_type": "code",
   "execution_count": 188,
   "id": "1477a185-599a-4018-9ea4-bd646c99ea31",
   "metadata": {},
   "outputs": [
    {
     "data": {
      "image/png": "[encoded data removed]",
      "text/plain": [
       "<Figure size 640x480 with 2 Axes>"
      ]
     },
     "metadata": {},
     "output_type": "display_data"
    }
   ],
   "source": [
    "mask = np.eye(aggregated.values.shape[0], dtype=bool)\n",
    "aggregated =aggregated.fillna(1)\n",
    "\n",
    "aggregated = aggregated.reindex(index=AGENTS_CLEAN_NAMES, columns=AGENTS_CLEAN_NAMES)\n",
    "\n",
    "\n",
    "g2 = sns.heatmap(aggregated, annot=True, mask=mask, fmt=\".2f\")\n",
    "g2.set(ylabel=None)\n",
    "g2.set(xlabel=None)\n",
    "\n",
    "g2.get_figure().savefig(\"figures/section_one_trading_payoff.pdf\") \n"
   ]
  },
  {
   "cell_type": "code",
   "execution_count": null,
   "id": "2bf10d62-e890-4bd2-af33-33ba8340320f",
   "metadata": {},
   "outputs": [],
   "source": []
  },
  {
   "cell_type": "markdown",
   "id": "ac6a19ca-56e7-481c-939c-e4af94b55d74",
   "metadata": {},
   "source": [
    "## Ultimatum"
   ]
  },
  {
   "cell_type": "code",
   "execution_count": 189,
   "id": "e85a829c-ff72-4851-bb56-3839fd6fc62d",
   "metadata": {},
   "outputs": [
    {
     "name": "stdout",
     "output_type": "stream",
     "text": [
      "THERE ARE 240 log files\n",
      "240 Loaded Successfully\n"
     ]
    }
   ],
   "source": [
    "log_dir = \"../experiments/section_one/.logs/ultimatum_multi_section_one/\"\n",
    "game_states = load_states_from_dir(log_dir) #+ load_states_from_dir(log_dir) \n",
    "df = compute_game_summary(game_states)\n"
   ]
  },
  {
   "cell_type": "code",
   "execution_count": 190,
   "id": "e0684f2c-ede1-439c-ad1e-4343a8fe6806",
   "metadata": {},
   "outputs": [],
   "source": [
    "df[\"resource_delta_1\"] = df[\"resource_delta_1\"] + 100"
   ]
  },
  {
   "cell_type": "markdown",
   "id": "1d5ad3e9-b632-4209-b3db-033a0c5c32f2",
   "metadata": {},
   "source": [
    "### Win Rate"
   ]
  },
  {
   "cell_type": "code",
   "execution_count": 191,
   "id": "e8b56dbb-e225-4a66-8e09-c18f8d909913",
   "metadata": {},
   "outputs": [
    {
     "data": {
      "image/png": "[encoded data removed]",
      "text/plain": [
       "<Figure size 640x480 with 2 Axes>"
      ]
     },
     "metadata": {},
     "output_type": "display_data"
    }
   ],
   "source": [
    "AGENTS = [\"gpt-4-1106-preview\", \"claude-2.1\", \"claude-2\", \"gpt-3.5-turbo-1106\",]\n",
    "AGENTS_CLEAN_NAMES = [\"GPT-4\", \"Claude-2.1\", \"Claude-2\", \"GPT-3.5\"]\n",
    "PAIRS_OF_AGENTS = [[x, y] for x, y in itertools.product(AGENTS, AGENTS) if x != y]\n",
    "\n",
    "l2 = collect_and_plot_heatmap(df, AGENTS, AGENTS_CLEAN_NAMES, PAIRS_OF_AGENTS)\n",
    "mask = np.eye(l2.shape[0], dtype=bool)\n",
    "\n",
    "figu = sns.heatmap(l2, annot=True, mask=mask, fmt=\".2f\", yticklabels=AGENTS_CLEAN_NAMES, xticklabels=AGENTS_CLEAN_NAMES)\n"
   ]
  },
  {
   "cell_type": "code",
   "execution_count": 192,
   "id": "21f13f66-8ebe-476c-9503-46e44f685387",
   "metadata": {},
   "outputs": [],
   "source": [
    "fig = figu.get_figure()\n",
    "fig.savefig(\"figures/section_one_ultimatum_winrate.pdf\") "
   ]
  },
  {
   "cell_type": "markdown",
   "id": "b3d1e230-f442-4caa-94e3-58cd9c2243af",
   "metadata": {},
   "source": [
    "### PayOff"
   ]
  },
  {
   "cell_type": "code",
   "execution_count": 193,
   "id": "bd9fbb87-8571-4c48-932c-8aa1ca87075a",
   "metadata": {},
   "outputs": [
    {
     "data": {
      "image/png": "[encoded data removed]",
      "text/plain": [
       "<Figure size 640x480 with 2 Axes>"
      ]
     },
     "metadata": {},
     "output_type": "display_data"
    }
   ],
   "source": [
    "df_copy = df.copy()\n",
    "df_copy[\"model_1\"] = df_copy[\"model_1\"].replace(rename_dict)\n",
    "df_copy[\"model_2\"] = df_copy[\"model_2\"].replace(rename_dict)\n",
    "\n",
    "df_copy['models'] = df_copy['model_1'] + '@' + df_copy['model_2']\n",
    "df_copy['models'] = df_copy['models'].apply(lambda v: \"@\".join(sorted(v.split('@'))))\n",
    "\n",
    "# swap cells which are re-ordered\n",
    "to_swap = df_copy['model_1'] > df_copy['model_2'] \n",
    "temp = df_copy['resource_delta_1'][to_swap].copy()\n",
    "df_copy['resource_delta_1'][to_swap] = df_copy['resource_delta_2'][to_swap]\n",
    "df_copy['resource_delta_2'][to_swap] = temp\n",
    "\n",
    "df_copy['win_1'] = df_copy['resource_delta_1'] > df_copy['resource_delta_2']\n",
    "df_copy['win_2'] =df_copy['resource_delta_1'] < df_copy['resource_delta_2']\n",
    "df_copy['draw'] = df_copy['resource_delta_1'] == df_copy['resource_delta_2']\n",
    "\n",
    "df_copy = df_copy.groupby(['game_name', 'models'])[[ 'win_1', 'win_2', 'resource_delta_1', 'resource_delta_2']].agg(['mean',]).reset_index()\n",
    "\n",
    "df_copy[['model_1', 'model_2']] = df_copy['models'].str.split('@', n=1, expand=True)\n",
    "win_rates = df_copy[\"win_1\"][\"mean\"].tolist() + df_copy[\"win_2\"][\"mean\"].tolist()\n",
    "payoffs = df_copy[\"resource_delta_1\"][\"mean\"].tolist() + df_copy[\"resource_delta_2\"][\"mean\"].tolist()\n",
    "model1 = df_copy[\"model_1\"].tolist() + df_copy[\"model_2\"].tolist()\n",
    "model2  = df_copy[\"model_2\"].tolist() + df_copy[\"model_1\"].tolist()\n",
    "aggregated = pd.DataFrame({\"winrate\" : win_rates, \"payoff\" : payoffs, \"model_1\" : model1, \"model_2\" : model2})\n",
    "aggregated = aggregated.pivot(index=\"model_1\", columns=\"model_2\", values=\"payoff\")\n",
    "\n",
    "mask = np.eye(aggregated.values.shape[0], dtype=bool)\n",
    "aggregated =aggregated.fillna(1)\n",
    "\n",
    "aggregated = aggregated.reindex(index=AGENTS_CLEAN_NAMES, columns=AGENTS_CLEAN_NAMES)\n",
    "\n",
    "\n",
    "g2 = sns.heatmap(aggregated, annot=True, mask=mask, fmt=\".2f\")\n",
    "g2.set(ylabel=None)\n",
    "g2.set(xlabel=None)\n",
    "g2.get_figure().savefig(\"figures/section_one_ultimatum_payoff.pdf\") \n"
   ]
  },
  {
   "cell_type": "code",
   "execution_count": null,
   "id": "cc7f6163-b94b-4f37-a642-970382b02a5e",
   "metadata": {},
   "outputs": [],
   "source": [
    "\n"
   ]
  }
 ],
 "metadata": {
  "kernelspec": {
   "display_name": "Python 3 (ipykernel)",
   "language": "python",
   "name": "python3"
  },
  "language_info": {
   "codemirror_mode": {
    "name": "ipython",
    "version": 3
   },
   "file_extension": ".py",
   "mimetype": "text/x-python",
   "name": "python",
   "nbconvert_exporter": "python",
   "pygments_lexer": "ipython3",
   "version": "3.10.12"
  }
 },
 "nbformat": 4,
 "nbformat_minor": 5
}
