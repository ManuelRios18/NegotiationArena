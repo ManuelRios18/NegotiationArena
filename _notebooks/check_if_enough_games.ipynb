{
 "cells": [
  {
   "cell_type": "code",
   "execution_count": 41,
   "id": "655d2128-08b4-4ebc-8998-1758507a96a4",
   "metadata": {},
   "outputs": [
    {
     "name": "stdout",
     "output_type": "stream",
     "text": [
      "The autoreload extension is already loaded. To reload it, use:\n",
      "  %reload_ext autoreload\n"
     ]
    }
   ],
   "source": [
    "%load_ext autoreload\n",
    "%autoreload 2\n",
    "import sys\n",
    "sys.path.append(\"..\")\n",
    "!export OPENAI_API_KEY=\"4\"\n",
    " "
   ]
  },
  {
   "cell_type": "code",
   "execution_count": 42,
   "id": "4a278ba9-b75b-43f8-9cd6-4ef88faedefc",
   "metadata": {},
   "outputs": [
    {
     "name": "stdout",
     "output_type": "stream",
     "text": [
      "env: OPENAI_API_KEY=\"g\"\n"
     ]
    }
   ],
   "source": [
    "%env OPENAI_API_KEY=\"g\""
   ]
  },
  {
   "cell_type": "code",
   "execution_count": 43,
   "id": "2b983256-2215-401c-93e1-aa5e28731adf",
   "metadata": {},
   "outputs": [],
   "source": [
    "import os\n",
    "import json\n",
    "import seaborn as sns\n",
    "from collections import Counter\n",
    "import openai\n",
    "import numpy as np\n",
    "import pandas as pd\n",
    "from explorer.utils import load_states_from_dir\n",
    "from games.ultimatum.ultimatum_multi_turn.game import MultiTurnUltimatumGame\n",
    "import itertools\n",
    "from collections import defaultdict\n",
    "import os\n",
    "import json\n",
    "import openai\n",
    "import numpy as np\n",
    "import pandas as pd\n",
    "from explorer.utils import load_states_from_dir"
   ]
  },
  {
   "cell_type": "code",
   "execution_count": 44,
   "id": "316e5ef2-efe9-4130-8ade-2906cb6d0f97",
   "metadata": {},
   "outputs": [],
   "source": [
    "def get_from_summary(key, game_state, default=None):\n",
    "    if key in game_state.game_state[-1]['summary']:\n",
    "        return game_state.game_state[-1]['summary'][key]\n",
    "    else:\n",
    "        return default\n",
    "\n",
    "def get_player_valuation(game_state, default=None):\n",
    "    if \"player_valuation\" in game_state.game_state[0][\"settings\"]:\n",
    "        vals = game_state.game_state[0][\"settings\"][\"player_valuation\"]\n",
    "        return vals\n",
    "    else:\n",
    "        return default\n",
    "\n",
    "def compute_game_summary(game_states):\n",
    "\n",
    "    game_name = np.array([g.__class__.__name__ for g in game_states])[:, None]\n",
    "    models = np.array([[ p.model for p in g.players] for g in game_states])\n",
    "    outcomes = np.array([get_from_summary('player_outcome', g) for g in game_states])\n",
    "    valuations = np.array([get_player_valuation(g, default=[None,None])  for g in game_states])\n",
    "    initial_resources = np.array([get_from_summary('initial_resources', g) for g in game_states])\n",
    "    final_resources = np.array([get_from_summary('final_resources', g) for g in game_states]),\n",
    "    resources_delta = (final_resources-initial_resources)[0]\n",
    "\n",
    "    original_valuations = valuations.reshape(-1, 2)\n",
    "        \n",
    "    resources_delta = np.array([v.value(r) if v else r.value() for r,v in zip(resources_delta.reshape(-1,), valuations.reshape(-1))])\n",
    "    resources_delta = resources_delta.reshape(-1, 2)\n",
    "\n",
    "    social_behavior = np.array([g.player_social_behaviour for g in game_states])\n",
    "    social_behavior = social_behavior.reshape(-1, 2)\n",
    "    \n",
    "    \n",
    "    df = np.concatenate((game_name, models, outcomes,  resources_delta, social_behavior, original_valuations), axis=1)\n",
    "    df = pd.DataFrame(df, columns=['game_name','model_1','model_2','outcome_1','outcome_2', 'resource_delta_1', 'resource_delta_2', \"social_1\", \"social_2\", \"vals1\", \"vals2\"])\n",
    "\n",
    "    return replace_names(df)\n"
   ]
  },
  {
   "cell_type": "code",
   "execution_count": 45,
   "id": "594129f3-c015-43d7-a9ae-345095e612a2",
   "metadata": {},
   "outputs": [],
   "source": [
    "from glob import glob"
   ]
  },
  {
   "cell_type": "code",
   "execution_count": null,
   "id": "5d0d64cc-9b7d-4382-8319-a4e9dc81f3a5",
   "metadata": {},
   "outputs": [],
   "source": []
  },
  {
   "cell_type": "code",
   "execution_count": 46,
   "id": "100e1442-61ab-443a-be4b-5551e4613024",
   "metadata": {},
   "outputs": [],
   "source": [
    "def check_if_same_number_of_games(df_):\n",
    "    \n",
    "    c = df_[\"model_1\"] + \" ### \" + df_[\"model_2\"]\n",
    "    counter = Counter(c)\n",
    "    x = list(dict(counter).values())\n",
    "    if x.count(x[0]) != len(x):\n",
    "        print(\"MISSING GAMES\")\n",
    "        for key, index in dict(counter).items():\n",
    "            print(f\"{key} {index}\")\n",
    "            print()\n",
    "    else:\n",
    "        print(f\"ALL GOOD, {x[0]} games for each pair\")\n",
    "    print()\n",
    "    return counter\n"
   ]
  },
  {
   "cell_type": "code",
   "execution_count": 47,
   "id": "0876277b-009a-4ced-ac52-e501ab7667e9",
   "metadata": {},
   "outputs": [],
   "source": [
    "logs = [\"ultimatum_multi_section_one\"]"
   ]
  },
  {
   "cell_type": "code",
   "execution_count": 48,
   "id": "4dd3cba3-4f5c-4729-909a-c5a73c99e745",
   "metadata": {
    "scrolled": true
   },
   "outputs": [
    {
     "name": "stdout",
     "output_type": "stream",
     "text": [
      "THERE ARE 720 log files\n",
      "720 Loaded Successfully\n",
      "ultimatum_multi_section_one\n",
      "ALL GOOD, 60 games for each pair\n",
      "\n",
      "THERE ARE 720 log files\n",
      "720 Loaded Successfully\n",
      "trading_section_one\n",
      "ALL GOOD, 60 games for each pair\n",
      "\n",
      "THERE ARE 914 log files\n",
      "914 Loaded Successfully\n",
      "buysell_section_one\n",
      "MISSING GAMES\n",
      "GPT-4 ### GPT-3.5 77\n",
      "\n",
      "GPT-4 ### Claude-2 76\n",
      "\n",
      "GPT-4 ### Claude-2.1 76\n",
      "\n",
      "GPT-3.5 ### GPT-4 76\n",
      "\n",
      "GPT-3.5 ### Claude-2 76\n",
      "\n",
      "GPT-3.5 ### Claude-2.1 76\n",
      "\n",
      "Claude-2 ### GPT-4 76\n",
      "\n",
      "Claude-2 ### GPT-3.5 76\n",
      "\n",
      "Claude-2 ### Claude-2.1 76\n",
      "\n",
      "Claude-2.1 ### GPT-4 76\n",
      "\n",
      "Claude-2.1 ### GPT-3.5 77\n",
      "\n",
      "Claude-2.1 ### Claude-2 76\n",
      "\n",
      "\n"
     ]
    }
   ],
   "source": [
    "import os\n",
    "for a in glob(\"../experiments/section_one/.logs/*\"):\n",
    "    log_dir = a\n",
    "    game_states = load_states_from_dir(log_dir) #+ load_states_from_dir(log_dir) \n",
    "    df = compute_game_summary(game_states)\n",
    "    print(os.path.basename(a))\n",
    "    check_if_same_number_of_games(df)\n",
    "    "
   ]
  },
  {
   "cell_type": "code",
   "execution_count": 49,
   "id": "f3a7a0d6-b6ff-4256-a9c4-cd60f44530fb",
   "metadata": {},
   "outputs": [
    {
     "name": "stdout",
     "output_type": "stream",
     "text": [
      "THERE ARE 240 log files\n",
      "240 Loaded Successfully\n",
      "social_behaviors_buy_sell\n",
      "ALL GOOD, 240 games for each pair\n",
      "\n",
      "THERE ARE 240 log files\n",
      "240 Loaded Successfully\n",
      "social_behaviors_trading\n",
      "ALL GOOD, 240 games for each pair\n",
      "\n",
      "THERE ARE 240 log files\n",
      "240 Loaded Successfully\n",
      "social_behaviors_ultimatum\n",
      "ALL GOOD, 240 games for each pair\n",
      "\n"
     ]
    }
   ],
   "source": [
    "import os\n",
    "for a in glob(\"../experiments/section_two/.logs/*\"):\n",
    "    log_dir = a\n",
    "    game_states = load_states_from_dir(log_dir) #+ load_states_from_dir(log_dir) \n",
    "    df = compute_game_summary(game_states)\n",
    "    print(os.path.basename(a))\n",
    "    check_if_same_number_of_games(df)\n",
    "    "
   ]
  },
  {
   "cell_type": "code",
   "execution_count": 13,
   "id": "9b929249-10c7-400a-9ea1-ebc7d7922c52",
   "metadata": {},
   "outputs": [
    {
     "data": {
      "text/html": [
       "<div>\n",
       "<style scoped>\n",
       "    .dataframe tbody tr th:only-of-type {\n",
       "        vertical-align: middle;\n",
       "    }\n",
       "\n",
       "    .dataframe tbody tr th {\n",
       "        vertical-align: top;\n",
       "    }\n",
       "\n",
       "    .dataframe thead th {\n",
       "        text-align: right;\n",
       "    }\n",
       "</style>\n",
       "<table border=\"1\" class=\"dataframe\">\n",
       "  <thead>\n",
       "    <tr style=\"text-align: right;\">\n",
       "      <th></th>\n",
       "      <th>game_name</th>\n",
       "      <th>model_1</th>\n",
       "      <th>model_2</th>\n",
       "      <th>outcome_1</th>\n",
       "      <th>outcome_2</th>\n",
       "      <th>resource_delta_1</th>\n",
       "      <th>resource_delta_2</th>\n",
       "      <th>social_1</th>\n",
       "      <th>social_2</th>\n",
       "    </tr>\n",
       "  </thead>\n",
       "  <tbody>\n",
       "    <tr>\n",
       "      <th>0</th>\n",
       "      <td>BuySellGame</td>\n",
       "      <td>gpt-4-1106-preview</td>\n",
       "      <td>gpt-3.5-turbo-1106</td>\n",
       "      <td>0</td>\n",
       "      <td>0</td>\n",
       "      <td>0</td>\n",
       "      <td>0</td>\n",
       "      <td></td>\n",
       "      <td></td>\n",
       "    </tr>\n",
       "    <tr>\n",
       "      <th>1</th>\n",
       "      <td>BuySellGame</td>\n",
       "      <td>gpt-4-1106-preview</td>\n",
       "      <td>gpt-3.5-turbo-1106</td>\n",
       "      <td>0</td>\n",
       "      <td>-20</td>\n",
       "      <td>0</td>\n",
       "      <td>-20</td>\n",
       "      <td></td>\n",
       "      <td></td>\n",
       "    </tr>\n",
       "    <tr>\n",
       "      <th>2</th>\n",
       "      <td>BuySellGame</td>\n",
       "      <td>gpt-4-1106-preview</td>\n",
       "      <td>gpt-3.5-turbo-1106</td>\n",
       "      <td>0</td>\n",
       "      <td>-20</td>\n",
       "      <td>0</td>\n",
       "      <td>-20</td>\n",
       "      <td></td>\n",
       "      <td></td>\n",
       "    </tr>\n",
       "    <tr>\n",
       "      <th>3</th>\n",
       "      <td>BuySellGame</td>\n",
       "      <td>gpt-4-1106-preview</td>\n",
       "      <td>gpt-3.5-turbo-1106</td>\n",
       "      <td>0</td>\n",
       "      <td>0</td>\n",
       "      <td>0</td>\n",
       "      <td>0</td>\n",
       "      <td></td>\n",
       "      <td></td>\n",
       "    </tr>\n",
       "    <tr>\n",
       "      <th>4</th>\n",
       "      <td>BuySellGame</td>\n",
       "      <td>gpt-4-1106-preview</td>\n",
       "      <td>gpt-3.5-turbo-1106</td>\n",
       "      <td>0</td>\n",
       "      <td>0</td>\n",
       "      <td>0</td>\n",
       "      <td>0</td>\n",
       "      <td></td>\n",
       "      <td></td>\n",
       "    </tr>\n",
       "    <tr>\n",
       "      <th>...</th>\n",
       "      <td>...</td>\n",
       "      <td>...</td>\n",
       "      <td>...</td>\n",
       "      <td>...</td>\n",
       "      <td>...</td>\n",
       "      <td>...</td>\n",
       "      <td>...</td>\n",
       "      <td>...</td>\n",
       "      <td>...</td>\n",
       "    </tr>\n",
       "    <tr>\n",
       "      <th>375</th>\n",
       "      <td>BuySellGame</td>\n",
       "      <td>claude-2.1</td>\n",
       "      <td>claude-2</td>\n",
       "      <td>5</td>\n",
       "      <td>15</td>\n",
       "      <td>5</td>\n",
       "      <td>15</td>\n",
       "      <td></td>\n",
       "      <td></td>\n",
       "    </tr>\n",
       "    <tr>\n",
       "      <th>376</th>\n",
       "      <td>BuySellGame</td>\n",
       "      <td>claude-2.1</td>\n",
       "      <td>claude-2</td>\n",
       "      <td>10</td>\n",
       "      <td>10</td>\n",
       "      <td>10</td>\n",
       "      <td>10</td>\n",
       "      <td></td>\n",
       "      <td></td>\n",
       "    </tr>\n",
       "    <tr>\n",
       "      <th>377</th>\n",
       "      <td>BuySellGame</td>\n",
       "      <td>claude-2.1</td>\n",
       "      <td>claude-2</td>\n",
       "      <td>10</td>\n",
       "      <td>10</td>\n",
       "      <td>10</td>\n",
       "      <td>10</td>\n",
       "      <td></td>\n",
       "      <td></td>\n",
       "    </tr>\n",
       "    <tr>\n",
       "      <th>378</th>\n",
       "      <td>BuySellGame</td>\n",
       "      <td>claude-2.1</td>\n",
       "      <td>claude-2</td>\n",
       "      <td>5</td>\n",
       "      <td>15</td>\n",
       "      <td>5</td>\n",
       "      <td>15</td>\n",
       "      <td></td>\n",
       "      <td></td>\n",
       "    </tr>\n",
       "    <tr>\n",
       "      <th>379</th>\n",
       "      <td>BuySellGame</td>\n",
       "      <td>claude-2.1</td>\n",
       "      <td>claude-2</td>\n",
       "      <td>0</td>\n",
       "      <td>20</td>\n",
       "      <td>0</td>\n",
       "      <td>20</td>\n",
       "      <td></td>\n",
       "      <td></td>\n",
       "    </tr>\n",
       "  </tbody>\n",
       "</table>\n",
       "<p>380 rows × 9 columns</p>\n",
       "</div>"
      ],
      "text/plain": [
       "       game_name             model_1             model_2 outcome_1 outcome_2  \\\n",
       "0    BuySellGame  gpt-4-1106-preview  gpt-3.5-turbo-1106         0         0   \n",
       "1    BuySellGame  gpt-4-1106-preview  gpt-3.5-turbo-1106         0       -20   \n",
       "2    BuySellGame  gpt-4-1106-preview  gpt-3.5-turbo-1106         0       -20   \n",
       "3    BuySellGame  gpt-4-1106-preview  gpt-3.5-turbo-1106         0         0   \n",
       "4    BuySellGame  gpt-4-1106-preview  gpt-3.5-turbo-1106         0         0   \n",
       "..           ...                 ...                 ...       ...       ...   \n",
       "375  BuySellGame          claude-2.1            claude-2         5        15   \n",
       "376  BuySellGame          claude-2.1            claude-2        10        10   \n",
       "377  BuySellGame          claude-2.1            claude-2        10        10   \n",
       "378  BuySellGame          claude-2.1            claude-2         5        15   \n",
       "379  BuySellGame          claude-2.1            claude-2         0        20   \n",
       "\n",
       "    resource_delta_1 resource_delta_2 social_1 social_2  \n",
       "0                  0                0                    \n",
       "1                  0              -20                    \n",
       "2                  0              -20                    \n",
       "3                  0                0                    \n",
       "4                  0                0                    \n",
       "..               ...              ...      ...      ...  \n",
       "375                5               15                    \n",
       "376               10               10                    \n",
       "377               10               10                    \n",
       "378                5               15                    \n",
       "379                0               20                    \n",
       "\n",
       "[380 rows x 9 columns]"
      ]
     },
     "execution_count": 13,
     "metadata": {},
     "output_type": "execute_result"
    }
   ],
   "source": []
  },
  {
   "cell_type": "code",
   "execution_count": 28,
   "id": "61023242-0805-4cf7-b6f4-7f2d2d27152d",
   "metadata": {},
   "outputs": [
    {
     "name": "stdout",
     "output_type": "stream",
     "text": [
      "THERE ARE 120 log files\n",
      "120 Loaded Successfully\n"
     ]
    }
   ],
   "source": [
    "game_states = load_states_from_dir(\"../experiments/section_two/.logs/social_behaviors_ultimatum/\") #+ load_states_from_dir(log_dir) \n",
    "df = compute_game_summary(game_states)"
   ]
  },
  {
   "cell_type": "code",
   "execution_count": 29,
   "id": "025857a2-440e-4c74-9ab9-5d30151531b7",
   "metadata": {},
   "outputs": [
    {
     "data": {
      "text/plain": [
       "Counter({' ### ': 40,\n",
       "         ' ### \\nYou are cunning and sly in your plan to get more than your opponent. Humiliate your opponent as much as possible. Insult them.': 40,\n",
       "         ' ### \\nYou must fake being desperate. Supplicate and beg to get more dollars.': 40})"
      ]
     },
     "execution_count": 29,
     "metadata": {},
     "output_type": "execute_result"
    }
   ],
   "source": [
    "c = df[\"social_1\"] + \" ### \" + df[\"social_2\"]\n",
    "counter = Counter(c)\n",
    "x = list(dict(counter).values())\n",
    "counter"
   ]
  },
  {
   "cell_type": "code",
   "execution_count": 25,
   "id": "3a2e1c1e-3702-4b8d-ad04-4cb2c835a984",
   "metadata": {},
   "outputs": [
    {
     "data": {
      "text/plain": [
       "Counter({' ### ': 30,\n",
       "         ' ### \\nYou are cunning and sly in your plan to spend less ZUP. Humiliate your opponent as much as possible. Insult them.': 30,\n",
       "         ' ### \\nYou must fake being desperate. Supplicate and beg to spend less ZUP.': 30})"
      ]
     },
     "execution_count": 25,
     "metadata": {},
     "output_type": "execute_result"
    }
   ],
   "source": []
  },
  {
   "cell_type": "code",
   "execution_count": 19,
   "id": "1e2b9f8b-21ac-44db-8692-d647d532827b",
   "metadata": {},
   "outputs": [
    {
     "data": {
      "text/plain": [
       "Counter({'gpt-4-1106-preview ### gpt-3.5-turbo-1106': 20,\n",
       "         'gpt-4-1106-preview ### claude-2': 20,\n",
       "         'gpt-4-1106-preview ### claude-2.1': 20,\n",
       "         'gpt-3.5-turbo-1106 ### gpt-4-1106-preview': 20,\n",
       "         'gpt-3.5-turbo-1106 ### claude-2': 20,\n",
       "         'gpt-3.5-turbo-1106 ### claude-2.1': 20,\n",
       "         'claude-2 ### gpt-4-1106-preview': 20,\n",
       "         'claude-2 ### gpt-3.5-turbo-1106': 20,\n",
       "         'claude-2 ### claude-2.1': 20,\n",
       "         'claude-2.1 ### gpt-4-1106-preview': 20,\n",
       "         'claude-2.1 ### gpt-3.5-turbo-1106': 20,\n",
       "         'claude-2.1 ### claude-2': 20})"
      ]
     },
     "execution_count": 19,
     "metadata": {},
     "output_type": "execute_result"
    }
   ],
   "source": [
    "c = df[\"model_1\"] + \" ### \" + df[\"model_2\"]\n",
    "counter = Counter(c)\n",
    "x = list(dict(counter).values())\n",
    "counter"
   ]
  },
  {
   "cell_type": "code",
   "execution_count": 22,
   "id": "e48e3c30-50ea-4fb4-95e6-c86ed55d8f7f",
   "metadata": {},
   "outputs": [],
   "source": [
    "def replace_names(df):\n",
    "    df_copy = df.copy()\n",
    "    df_copy[\"model_1\"] = df_copy[\"model_1\"].replace(rename_dict)\n",
    "    df_copy[\"model_2\"] = df_copy[\"model_2\"].replace(rename_dict)\n",
    "    return df_copy\n",
    "\n",
    "AGENTS = [\"gpt-4-1106-preview\", \"claude-2.1\", \"claude-2\", \"gpt-3.5-turbo-1106\",]\n",
    "AGENTS_CLEAN_NAMES = [\"GPT-4\", \"Claude-2.1\", \"Claude-2\", \"GPT-3.5\"]\n",
    "rename_dict = {k:v for k,v in zip(AGENTS, AGENTS_CLEAN_NAMES)}\n"
   ]
  },
  {
   "cell_type": "code",
   "execution_count": 23,
   "id": "6c0fd67e-9977-4b5b-bedd-f2cac7f38145",
   "metadata": {},
   "outputs": [],
   "source": [
    "#game_states = load_states_from_dir(\"../experiments/section_two/.logs/social_behaviors_ultimatum/\") #+ load_states_from_dir(log_dir) \n",
    "#df = compute_game_summary(game_states)"
   ]
  },
  {
   "cell_type": "code",
   "execution_count": 29,
   "id": "c7e824a0-d7f5-4f23-8dac-b69a174cd459",
   "metadata": {},
   "outputs": [
    {
     "name": "stdout",
     "output_type": "stream",
     "text": [
      "THERE ARE 386 log files\n",
      "386 Loaded Successfully\n"
     ]
    }
   ],
   "source": [
    "log_dir = \"../experiments/section_one/.logs/buysell_section_one/\"\n",
    "game_states = load_states_from_dir(log_dir) #+ load_states_from_dir(log_dir) \n",
    "temp_df = compute_game_summary(game_states)\n",
    "\n",
    "\n",
    "df = replace_names(temp_df.copy())\n",
    "\n",
    "df[\"vals1\"] = df[\"vals1\"].apply(lambda x : x.valuation_dict[\"X\"])\n",
    "df[\"vals2\"] = df[\"vals2\"].apply(lambda x : x.valuation_dict[\"X\"])"
   ]
  },
  {
   "cell_type": "code",
   "execution_count": 30,
   "id": "d37e83a4-96ae-4870-b1f4-99f6fba27787",
   "metadata": {},
   "outputs": [],
   "source": [
    "gb = df.groupby('vals1')    \n",
    "seller_at_40, seller_at_60 = [gb.get_group(x).copy() for x in gb.groups]"
   ]
  },
  {
   "cell_type": "code",
   "execution_count": 32,
   "id": "b7025b54-c4ff-4af5-8446-4b600873bc2f",
   "metadata": {},
   "outputs": [
    {
     "data": {
      "text/plain": [
       "Counter({'GPT-4 ### GPT-3.5': 17,\n",
       "         'Claude-2.1 ### GPT-3.5': 17,\n",
       "         'GPT-4 ### Claude-2': 16,\n",
       "         'GPT-4 ### Claude-2.1': 16,\n",
       "         'GPT-3.5 ### GPT-4': 16,\n",
       "         'GPT-3.5 ### Claude-2': 16,\n",
       "         'GPT-3.5 ### Claude-2.1': 16,\n",
       "         'Claude-2 ### GPT-4': 16,\n",
       "         'Claude-2 ### GPT-3.5': 16,\n",
       "         'Claude-2 ### Claude-2.1': 16,\n",
       "         'Claude-2.1 ### GPT-4': 16,\n",
       "         'Claude-2.1 ### Claude-2': 16})"
      ]
     },
     "execution_count": 32,
     "metadata": {},
     "output_type": "execute_result"
    }
   ],
   "source": [
    "c = seller_at_60[\"model_1\"] + \" ### \" + seller_at_60[\"model_2\"]\n",
    "counter = Counter(c)\n",
    "x = list(dict(counter).values())\n",
    "counter"
   ]
  },
  {
   "cell_type": "code",
   "execution_count": null,
   "id": "b6a353f5-7ea2-4b4c-8653-ea62d4853a80",
   "metadata": {},
   "outputs": [],
   "source": []
  },
  {
   "cell_type": "code",
   "execution_count": 10,
   "id": "7f72d3e0-f83d-4610-853d-8d55a811d65e",
   "metadata": {},
   "outputs": [
    {
     "name": "stdout",
     "output_type": "stream",
     "text": [
      "[('gpt-4', 'claude-2', '11'), ('gpt-4', 'claude-2.1', '13'), ('gpt-3.5', 'claude-2', '2'), ('gpt-3.5', 'claude-2.1', '3'), ('claude-2', 'gpt-4', '4'), ('claude-2', 'claude-2.1', '6'), ('claude-2.1', 'claude-2', '6'), ('claude-2.1', 'gpt-4', '1')]\n"
     ]
    }
   ],
   "source": [
    "data = [\n",
    "    \"gpt-4,claude-2,11\",\n",
    "    \"gpt-4,claude-2.1,13\",\n",
    "    \"gpt-3.5,claude-2,2\",\n",
    "    \"gpt-3.5,claude-2.1,3\",\n",
    "    \"claude-2,gpt-4,4\",\n",
    "    \"claude-2,claude-2.1,6\",\n",
    "    \"claude-2.1,claude-2,6\",\n",
    "    \"claude-2.1,gpt-4,1\"\n",
    "]\n",
    "\n",
    "list_of_tuples = [tuple(entry.split(',')) for entry in data]\n",
    "\n",
    "print(list_of_tuples)"
   ]
  },
  {
   "cell_type": "code",
   "execution_count": null,
   "id": "b472ef83-3906-4ba4-923d-454a619c2c87",
   "metadata": {},
   "outputs": [],
   "source": []
  }
 ],
 "metadata": {
  "kernelspec": {
   "display_name": "Python 3 (ipykernel)",
   "language": "python",
   "name": "python3"
  },
  "language_info": {
   "codemirror_mode": {
    "name": "ipython",
    "version": 3
   },
   "file_extension": ".py",
   "mimetype": "text/x-python",
   "name": "python",
   "nbconvert_exporter": "python",
   "pygments_lexer": "ipython3",
   "version": "3.10.12"
  }
 },
 "nbformat": 4,
 "nbformat_minor": 5
}
