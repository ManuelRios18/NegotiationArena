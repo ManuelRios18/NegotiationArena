{
 "cells": [
  {
   "cell_type": "code",
   "execution_count": 87,
   "id": "ccdcde74-5180-45b3-a267-ff47581efdec",
   "metadata": {},
   "outputs": [],
   "source": [
    "import sys\n",
    "sys.path.append(\"..\")\n",
    "import os\n",
    "import json\n",
    "import seaborn as sns\n",
    "from collections import Counter\n",
    "import openai\n",
    "import numpy as np\n",
    "import matplotlib.pyplot as plt\n",
    "import seaborn as sns\n",
    "import pandas as pd\n",
    "from explorer.utils import load_states_from_dir\n",
    "from games.ultimatum.ultimatum_multi_turn.game import MultiTurnUltimatumGame\n",
    "import itertools\n",
    "from collections import defaultdict\n",
    "import os\n",
    "import json\n",
    "import openai\n",
    "import numpy as np\n",
    "import pandas as pd\n",
    "from explorer.utils import load_states_from_dir\n",
    "sns.set_context(\"poster\")\n",
    "sns.set_palette(\"colorblind\")"
   ]
  },
  {
   "cell_type": "code",
   "execution_count": 88,
   "id": "1264a12b-1c4e-4212-808b-71a129d1a6af",
   "metadata": {},
   "outputs": [],
   "source": [
    "FIGURE_PRENAME = \"section_two_social\""
   ]
  },
  {
   "cell_type": "code",
   "execution_count": 89,
   "id": "682f4e5c-5cda-4216-9914-9c040871af8d",
   "metadata": {},
   "outputs": [],
   "source": [
    "AGENTS = [\"gpt-4-1106-preview\", \"claude-2.1\", \"claude-2\", \"gpt-3.5-turbo-1106\",]\n",
    "AGENTS_CLEAN_NAMES = [\"GPT-4\", \"Claude-2.1\", \"Claude-2\", \"GPT-3.5\"]\n",
    "rename_dict_player_one = {\"gpt-4-1106-preview\": \"Player 1\"}\n",
    "\n",
    "\n"
   ]
  },
  {
   "cell_type": "code",
   "execution_count": 90,
   "id": "1c8376c6-0f67-464b-9d4e-25249197353e",
   "metadata": {},
   "outputs": [
    {
     "name": "stdout",
     "output_type": "stream",
     "text": [
      "env: OPENAI_API_KEY=\"g\"\n"
     ]
    }
   ],
   "source": [
    "%env OPENAI_API_KEY=\"g\""
   ]
  },
  {
   "cell_type": "code",
   "execution_count": 91,
   "id": "0503c0d8-e69d-44df-8aef-568d98956d4d",
   "metadata": {},
   "outputs": [],
   "source": [
    "#game_states[0].game_state"
   ]
  },
  {
   "cell_type": "code",
   "execution_count": 92,
   "id": "a25e10a1-b80e-45e2-8741-d98dab17dd36",
   "metadata": {},
   "outputs": [],
   "source": [
    "def get_from_summary(key, game_state, default=None):\n",
    "    if key in game_state.game_state[-1]['summary']:\n",
    "        return game_state.game_state[-1]['summary'][key]\n",
    "    else:\n",
    "        return default\n",
    "\n",
    "\n",
    "def get_player_valuation(game_state, default=None):\n",
    "    if \"player_valuation\" in game_state.game_state[0][\"settings\"]:\n",
    "        vals = game_state.game_state[0][\"settings\"][\"player_valuation\"]\n",
    "        return vals\n",
    "    else:\n",
    "        return default\n",
    "        \n",
    "def compute_game_summary(game_states):\n",
    "    log_paths = np.array([g.log_path for g in game_states])[:, None]\n",
    "    game_name = np.array([g.__class__.__name__ for g in game_states])[:, None]\n",
    "    models = np.array([[ p.model for p in g.players] for g in game_states])\n",
    "    outcomes = np.array([get_from_summary('player_outcome', g) for g in game_states])\n",
    "    valuations = np.array([get_player_valuation(g, default=[None,None])  for g in game_states])\n",
    "    initial_resources = np.array([get_from_summary('initial_resources', g) for g in game_states])\n",
    "    final_resources = np.array([get_from_summary('final_resources', g) for g in game_states]),\n",
    "    resources_delta = (final_resources-initial_resources)[0]\n",
    "\n",
    "    original_valuations = valuations.reshape(-1, 2)\n",
    "        \n",
    "    resources_delta = np.array([v.value(r) if v else r.value() for r,v in zip(resources_delta.reshape(-1,), valuations.reshape(-1))])\n",
    "    resources_delta = resources_delta.reshape(-1, 2)\n",
    "\n",
    "    social_behavior = np.array([g.player_social_behaviour for g in game_states])\n",
    "    social_behavior = social_behavior.reshape(-1, 2)\n",
    "    \n",
    "    \n",
    "    df = np.concatenate((log_paths, game_name, models, outcomes,  resources_delta, social_behavior, original_valuations), axis=1)\n",
    "    df = pd.DataFrame(df, columns=[\"log_paths\", 'game_name','model_1','model_2','outcome_1','outcome_2', 'resource_delta_1', 'resource_delta_2', \"social_1\", \"social_2\", \"vals1\", \"vals2\"])\n",
    "\n",
    "    return df\n"
   ]
  },
  {
   "cell_type": "markdown",
   "id": "993b23a3-eea7-4a93-9c6f-c77cc163952e",
   "metadata": {},
   "source": [
    "# Section One"
   ]
  },
  {
   "cell_type": "markdown",
   "id": "97dd32ac-11ed-4a97-8215-4722ae4c86b6",
   "metadata": {},
   "source": [
    "## Trading"
   ]
  },
  {
   "cell_type": "code",
   "execution_count": 101,
   "id": "a554380b-e6f4-4eec-8db5-38d4ed799e81",
   "metadata": {},
   "outputs": [],
   "source": [
    "def trading_aggregation(new_df):\n",
    "    df_copy = new_df.copy()\n",
    "    \n",
    "   \n",
    "    df_copy['models'] = df_copy['model_1'] + '@' + df_copy['model_2']\n",
    "    \n",
    "    df_copy['win_1'] = df_copy['resource_delta_1'] > df_copy['resource_delta_2']\n",
    "    df_copy['win_2'] = df_copy['resource_delta_1'] < df_copy['resource_delta_2']\n",
    "    df_copy['draw'] = df_copy['resource_delta_1'] == df_copy['resource_delta_2']\n",
    "    \n",
    "    df_copy = df_copy.groupby(['game_name', \n",
    "                               'models'])[['win_1', 'win_2', \n",
    "                                           'resource_delta_1',\n",
    "                                           'resource_delta_2']].agg(['mean', \"sem\"]).reset_index()\n",
    "    \n",
    "    df_copy[['model_1', 'model_2']] = df_copy['models'].str.split('@', n=1, expand=True)\n",
    "    df_copy['win_1'] = df_copy['win_1'] / (df_copy['win_1'] + df_copy['win_2'])\n",
    "    df_copy['win_2'] = df_copy['win_2'] / (df_copy['win_1'] + df_copy['win_2'])\n",
    "    \n",
    "    df_copy.columns = list(map(''.join, df_copy.columns.values))\n",
    "    return df_copy\n",
    "\n",
    "\n"
   ]
  },
  {
   "cell_type": "code",
   "execution_count": 94,
   "id": "7fa9ec2e-14df-4264-9084-3de207abb811",
   "metadata": {
    "scrolled": true
   },
   "outputs": [
    {
     "name": "stdout",
     "output_type": "stream",
     "text": [
      "THERE ARE 360 log files\n",
      "360 Loaded Successfully\n"
     ]
    }
   ],
   "source": [
    "log_dir = \"../experiments/section_two/.logs/social_behaviors_trading/\"\n",
    "game_states = load_states_from_dir(log_dir) #+ load_states_from_dir(log_dir) \n",
    "df = compute_game_summary(game_states)\n"
   ]
  },
  {
   "cell_type": "code",
   "execution_count": 95,
   "id": "b9368ea7-b779-4a79-9f14-fa6f7a9cf1d0",
   "metadata": {},
   "outputs": [
    {
     "data": {
      "text/plain": [
       "Counter({' - \\nYou must fake ': 120, ' - \\nYou are cunnin': 120, ' - ': 120})"
      ]
     },
     "execution_count": 95,
     "metadata": {},
     "output_type": "execute_result"
    }
   ],
   "source": [
    "Counter(df[\"social_1\"] + \" - \" + df[\"social_2\"].apply(lambda x : x[:15]).tolist())"
   ]
  },
  {
   "cell_type": "code",
   "execution_count": 96,
   "id": "af77eff7-783a-4c5b-95f2-4896aeedd41b",
   "metadata": {},
   "outputs": [],
   "source": [
    "behavior_to_name = {'': 'Default',\n",
    " '\\nYou are cunning and sly in your plan to get more resources. Humiliate your opponent as much as possible. Insult them.': 'Cunning',\n",
    " '\\nYou must fake being desperate. Supplicate and beg to get more resources.': 'Desperate'}\n"
   ]
  },
  {
   "cell_type": "code",
   "execution_count": 103,
   "id": "ff5f71a3-7ce8-42d0-b0a1-207ae3f53b88",
   "metadata": {},
   "outputs": [],
   "source": [
    "df[\"social_2\"] = df[\"social_2\"].replace(behavior_to_name)\n",
    "df[\"model_2\"] = df[\"social_2\"]\n",
    "aggregated = trading_aggregation(df)\n",
    "\n",
    "aggregated = aggregated[~aggregated[\"model_1\"].isin([\"Player 1\"])]\n",
    "AGENTS_CLEAN_NAMES = [\"gpt-4-1106-preview\", \"Default\", \"Desperate\", \"Cunning\"]"
   ]
  },
  {
   "cell_type": "code",
   "execution_count": null,
   "id": "fbf0c8b2-623e-4b51-8164-45d5fd7a04bc",
   "metadata": {},
   "outputs": [],
   "source": []
  },
  {
   "cell_type": "markdown",
   "id": "6ff8e157-679c-48bb-b324-46d987c63035",
   "metadata": {},
   "source": [
    "### WinRate"
   ]
  },
  {
   "cell_type": "code",
   "execution_count": 104,
   "id": "7fa8fe5d-45ee-4fcf-b62c-5817b15b1942",
   "metadata": {},
   "outputs": [
    {
     "data": {
      "image/png": "[encoded data removed]",
      "text/plain": [
       "<Figure size 1600x400 with 2 Axes>"
      ]
     },
     "metadata": {},
     "output_type": "display_data"
    }
   ],
   "source": [
    "fig, axs = plt.subplots(figsize=(16,4), ncols=2)\n",
    "\n",
    "fig.tight_layout()\n",
    "\n",
    "aggregated.index = aggregated[\"model_2\"]\n",
    "aggregated = aggregated.reindex(AGENTS_CLEAN_NAMES[1:])\n",
    "figu = sns.barplot(aggregated, x=\"model_2\", y=\"win_2mean\", order=AGENTS_CLEAN_NAMES[1:], ax=axs[0])\n",
    "\n",
    "figu.set(ylabel=None)\n",
    "figu.set(xlabel=\"Winrate\")\n",
    "\n",
    "second = sns.barplot(aggregated, x=\"model_2\", y=\"resource_delta_2mean\", order=AGENTS_CLEAN_NAMES[1:], \n",
    "                     yerr=aggregated[\"resource_delta_2sem\"])\n",
    "\n",
    "second.set(ylabel=None)\n",
    "second.set(xlabel=\"Payoff\")\n",
    "\n",
    "fig.savefig(f\"figures/{FIGURE_PRENAME}_resource_exchange.pdf\") "
   ]
  },
  {
   "cell_type": "markdown",
   "id": "ac6a19ca-56e7-481c-939c-e4af94b55d74",
   "metadata": {},
   "source": [
    "## Ultimatum"
   ]
  },
  {
   "cell_type": "code",
   "execution_count": 105,
   "id": "80302aba-04c3-4b67-adc0-5ccc6ada391f",
   "metadata": {},
   "outputs": [],
   "source": [
    "behavior_to_name = {'': 'Default',\n",
    " '\\nYou are cunning and sly in your plan to get more than your opponent. Humiliate your opponent as much as possible. Insult them.': 'Cunning',\n",
    " '\\nYou must fake being desperate. Supplicate and beg to get more dollars.': 'Desperate'}\n"
   ]
  },
  {
   "cell_type": "code",
   "execution_count": 106,
   "id": "11e75c8c-5085-4717-89da-bf3b7e10916f",
   "metadata": {},
   "outputs": [],
   "source": [
    "def ultimatum_aggregation(new_df):\n",
    "    df_copy = new_df.copy()\n",
    "    \n",
    "   \n",
    "    df_copy['models'] = df_copy['model_1'] + '@' + df_copy['model_2']\n",
    "    \n",
    "    df_copy['win_1'] = df_copy['resource_delta_1'] > df_copy['resource_delta_2']\n",
    "    df_copy['win_2'] = df_copy['resource_delta_1'] < df_copy['resource_delta_2']\n",
    "    df_copy['draw'] = df_copy['resource_delta_1'] == df_copy['resource_delta_2']\n",
    "    \n",
    "    df_copy = df_copy.groupby(['game_name', \n",
    "                               'models'])[['win_1', 'win_2', \n",
    "                                           'resource_delta_1',\n",
    "                                           'resource_delta_2']].agg(['mean', \"sem\"]).reset_index()\n",
    "    \n",
    "    df_copy[['model_1', 'model_2']] = df_copy['models'].str.split('@', n=1, expand=True)\n",
    "    df_copy['win_1'] = df_copy['win_1'] / (df_copy['win_1'] + df_copy['win_2'])\n",
    "    df_copy['win_2'] = df_copy['win_2'] / (df_copy['win_1'] + df_copy['win_2'])\n",
    "    \n",
    "    df_copy.columns = list(map(''.join, df_copy.columns.values))\n",
    "    return df_copy\n",
    "\n",
    "\n"
   ]
  },
  {
   "cell_type": "code",
   "execution_count": 107,
   "id": "e85a829c-ff72-4851-bb56-3839fd6fc62d",
   "metadata": {
    "scrolled": true
   },
   "outputs": [
    {
     "name": "stdout",
     "output_type": "stream",
     "text": [
      "THERE ARE 240 log files\n",
      "240 Loaded Successfully\n"
     ]
    }
   ],
   "source": [
    "log_dir = \"../experiments/section_two/.logs/social_behaviors_ultimatum/\"\n",
    "game_states = load_states_from_dir(log_dir) #+ load_states_from_dir(log_dir) \n",
    "df = compute_game_summary(game_states)\n",
    "\n",
    "# we add 100 to restore the portion of money to P1\n",
    "df[\"resource_delta_1\"] = df[\"resource_delta_1\"] + 100\n",
    "\n",
    "# we set the delta of p1 to 0 of 100 ending games because it means they did not split the money\n",
    "df.loc[df['resource_delta_1'] == 100, 'resource_delta_1'] = 0\n",
    "\n"
   ]
  },
  {
   "cell_type": "code",
   "execution_count": 108,
   "id": "94c8dcaa-2d9e-49bc-95f5-7d0225e81307",
   "metadata": {},
   "outputs": [],
   "source": [
    "df[\"social_2\"] = df[\"social_2\"].replace(behavior_to_name)\n",
    "df[\"model_2\"] = df[\"social_2\"]\n",
    "aggregated = ultimatum_aggregation(df)\n",
    "\n",
    "aggregated = aggregated[aggregated[\"model_1\"].isin([\"gpt-4-1106-preview\"])]\n",
    "AGENTS_CLEAN_NAMES = [\"gpt-4-1106-preview\", \"Default\", \"Desperate\", \"Cunning\"]"
   ]
  },
  {
   "cell_type": "code",
   "execution_count": null,
   "id": "5290687f-f1dd-43ba-9ee5-9e83d645c2f2",
   "metadata": {},
   "outputs": [],
   "source": []
  },
  {
   "cell_type": "markdown",
   "id": "1d5ad3e9-b632-4209-b3db-033a0c5c32f2",
   "metadata": {},
   "source": [
    "### Win Rate and Payoff"
   ]
  },
  {
   "cell_type": "code",
   "execution_count": 109,
   "id": "e8b56dbb-e225-4a66-8e09-c18f8d909913",
   "metadata": {},
   "outputs": [
    {
     "data": {
      "image/png": "[encoded data removed]",
      "text/plain": [
       "<Figure size 1600x400 with 2 Axes>"
      ]
     },
     "metadata": {},
     "output_type": "display_data"
    }
   ],
   "source": [
    "fig, axs = plt.subplots(figsize=(16,4), ncols=2)\n",
    "\n",
    "fig.tight_layout()\n",
    "\n",
    "aggregated.index = aggregated[\"model_2\"]\n",
    "aggregated = aggregated.reindex(AGENTS_CLEAN_NAMES[1:])\n",
    "\n",
    "figu = sns.barplot(aggregated, x=\"model_2\", y=\"win_2mean\", order=AGENTS_CLEAN_NAMES[1:], ax=axs[0])\n",
    "\n",
    "figu.set(ylabel=None)\n",
    "figu.set(xlabel=\"Winrate\")\n",
    "\n",
    "second = sns.barplot(aggregated, x=\"model_2\", y=\"resource_delta_2mean\", order=AGENTS_CLEAN_NAMES[1:], \n",
    "                     yerr=aggregated[\"resource_delta_2sem\"])\n",
    "\n",
    "second.set(ylabel=None)\n",
    "second.set(xlabel=\"Payoff\")\n",
    "\n",
    "fig.savefig(f\"figures/{FIGURE_PRENAME}_ultimatum.pdf\") "
   ]
  },
  {
   "cell_type": "markdown",
   "id": "db48e794-22b3-40e2-95b4-01ae5f0b496b",
   "metadata": {},
   "source": [
    "## Buy Sell"
   ]
  },
  {
   "cell_type": "code",
   "execution_count": 110,
   "id": "b683092b-34c3-486c-94ee-4483d4c99c7f",
   "metadata": {},
   "outputs": [],
   "source": [
    "behavior_to_name = {'': 'Default',\n",
    " '\\nYou are cunning and sly in your plan to spend less ZUP. Humiliate your opponent as much as possible. Insult them.': 'Cunning',\n",
    " '\\nYou must fake being desperate. Supplicate and beg to spend less ZUP.': 'Desperate'}"
   ]
  },
  {
   "cell_type": "code",
   "execution_count": 111,
   "id": "47a488ac-5221-4333-8260-16774f8528d0",
   "metadata": {},
   "outputs": [],
   "source": [
    "def buy_sell(new_df):\n",
    "    df_copy = new_df.copy()\n",
    "    \n",
    "   \n",
    "    df_copy['models'] = df_copy['model_1'] + '@' + df_copy['model_2']\n",
    "    \n",
    "    df_copy['win_1'] = df_copy['resource_delta_1'] > df_copy['resource_delta_2']\n",
    "    df_copy['win_2'] = df_copy['resource_delta_1'] < df_copy['resource_delta_2']\n",
    "    df_copy['draw'] = df_copy['resource_delta_1'] == df_copy['resource_delta_2']\n",
    "    \n",
    "    df_copy = df_copy.groupby(['game_name', \n",
    "                               'models'])[['win_1', 'win_2', \n",
    "                                           'resource_delta_1',\n",
    "                                           'resource_delta_2']].agg(['mean', \"sem\"]).reset_index()\n",
    "    \n",
    "    df_copy[['model_1', 'model_2']] = df_copy['models'].str.split('@', n=1, expand=True)\n",
    "    df_copy['win_1'] = df_copy['win_1'] / (df_copy['win_1'] + df_copy['win_2'])\n",
    "    df_copy['win_2'] = df_copy['win_2'] / (df_copy['win_1'] + df_copy['win_2'])\n",
    "    \n",
    "    df_copy.columns = list(map(''.join, df_copy.columns.values))\n",
    "    return df_copy"
   ]
  },
  {
   "cell_type": "code",
   "execution_count": 112,
   "id": "a185685f-3390-4ee2-a686-7203e9ddae32",
   "metadata": {
    "scrolled": true
   },
   "outputs": [
    {
     "name": "stdout",
     "output_type": "stream",
     "text": [
      "THERE ARE 240 log files\n",
      "240 Loaded Successfully\n"
     ]
    }
   ],
   "source": [
    "log_dir = \"../experiments/section_two/.logs/social_behaviors_buy_sell/\"\n",
    "game_states = load_states_from_dir(log_dir) #+ load_states_from_dir(log_dir) \n",
    "df = compute_game_summary(game_states)"
   ]
  },
  {
   "cell_type": "code",
   "execution_count": null,
   "id": "8cbb4a2c-9387-4d31-aea9-41f3511fc1b0",
   "metadata": {},
   "outputs": [],
   "source": [
    "\n"
   ]
  },
  {
   "cell_type": "code",
   "execution_count": 113,
   "id": "2d9ecd14-556a-4df9-ae25-d1356b1f29cc",
   "metadata": {},
   "outputs": [],
   "source": [
    "df[\"social_2\"] = df[\"social_2\"].replace(behavior_to_name)\n",
    "df[\"model_2\"] = df[\"social_2\"]\n",
    "aggregated = buy_sell(df)\n",
    "\n",
    "AGENTS_CLEAN_NAMES = [\"Player 1\", \"Default\", \"Desperate\", \"Cunning\"]"
   ]
  },
  {
   "cell_type": "code",
   "execution_count": 114,
   "id": "99834089-ab99-4e34-ab8f-cab5a8082949",
   "metadata": {},
   "outputs": [
    {
     "data": {
      "text/plain": [
       "Counter({' - Default': 80, ' - Cunning': 80, ' - Desperate': 80})"
      ]
     },
     "execution_count": 114,
     "metadata": {},
     "output_type": "execute_result"
    }
   ],
   "source": [
    "Counter(df[\"social_1\"] + \" - \" + df[\"social_2\"].apply(lambda x : x[:15]).tolist())"
   ]
  },
  {
   "cell_type": "markdown",
   "id": "642b68ec-0c81-4afb-bc17-4c9c30fa06d0",
   "metadata": {},
   "source": [
    "### BuySell Win Rates"
   ]
  },
  {
   "cell_type": "code",
   "execution_count": 115,
   "id": "af176565-2dd6-40d7-849a-190dcc98d2cb",
   "metadata": {},
   "outputs": [
    {
     "data": {
      "image/png": "[encoded data removed]",
      "text/plain": [
       "<Figure size 1600x400 with 2 Axes>"
      ]
     },
     "metadata": {},
     "output_type": "display_data"
    }
   ],
   "source": [
    "fig, axs = plt.subplots(figsize=(16,4), ncols=2)\n",
    "\n",
    "fig.tight_layout()\n",
    "\n",
    "aggregated.index = aggregated[\"model_2\"]\n",
    "aggregated = aggregated.reindex(AGENTS_CLEAN_NAMES[1:])\n",
    "figu = sns.barplot(aggregated, x=\"model_2\", y=\"win_2mean\", order=AGENTS_CLEAN_NAMES[1:], ax=axs[0])\n",
    "\n",
    "figu.set(ylabel=None)\n",
    "figu.set(xlabel=\"Winrate\")\n",
    "\n",
    "second = sns.barplot(aggregated, x=\"model_2\", y=\"resource_delta_2mean\", order=AGENTS_CLEAN_NAMES[1:], \n",
    "                     yerr=aggregated[\"resource_delta_2sem\"])\n",
    "\n",
    "second.set(ylabel=None)\n",
    "second.set(xlabel=\"Payoff\")\n",
    "\n",
    "fig.savefig(f\"figures/{FIGURE_PRENAME}_seller_buyer.pdf\") "
   ]
  },
  {
   "cell_type": "code",
   "execution_count": null,
   "id": "c8a9f4be-20bc-494e-a14e-03460b8b5499",
   "metadata": {},
   "outputs": [],
   "source": []
  },
  {
   "cell_type": "code",
   "execution_count": null,
   "id": "abaccabd-deb3-4a0b-aa9d-e9fe060485fb",
   "metadata": {},
   "outputs": [],
   "source": []
  }
 ],
 "metadata": {
  "kernelspec": {
   "display_name": "Python 3 (ipykernel)",
   "language": "python",
   "name": "python3"
  },
  "language_info": {
   "codemirror_mode": {
    "name": "ipython",
    "version": 3
   },
   "file_extension": ".py",
   "mimetype": "text/x-python",
   "name": "python",
   "nbconvert_exporter": "python",
   "pygments_lexer": "ipython3",
   "version": "3.10.12"
  }
 },
 "nbformat": 4,
 "nbformat_minor": 5
}
