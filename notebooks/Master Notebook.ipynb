{
 "cells": [
  {
   "cell_type": "code",
   "execution_count": null,
   "id": "5dcee055",
   "metadata": {},
   "outputs": [],
   "source": []
  },
  {
   "cell_type": "code",
   "execution_count": 83,
   "id": "40062936",
   "metadata": {},
   "outputs": [],
   "source": [
    "structured_calls = \"\"\"You are playing a strategic game of trading resources with another player. You are Player 1. You are playing against a player whose resources you have no knowledge about.\n",
    "\n",
    "You will respond one turn at a time. At each step, you will state your current resources and either propose or respond to a trade.\n",
    "If it's your turn to propose, your response should be in the following format:\n",
    "\n",
    "RESOURCES: item1: amount, item2: amount, ... # Your resources\n",
    "\n",
    "PROPOSED TRADE: Player 1 Gives: item1: amount, item2: amount, ... Player 2 Gives: item1: amount, item2: amount, ...\n",
    "\n",
    "and do not say anything else. If it's your turn to respond, your response should be in the following format:\n",
    "\n",
    "PROPOSED TRADE: Player 1 Gives: item1: amount, item2: amount, ... Player 2 Gives: item1: amount, item2: amount, ...\n",
    "PLAYER RESPONSE: {{ACCEPTED/REJECTED}}\n",
    "RESOURCES AFTER TRADE: item1: amount, item2: amount, ... # Your resources\n",
    "NEWLY PROPOSED TRADE: Player 1 Gives: item1: amount, item2: amount,  Player 2 Gives: item1: amount, item2: amount, ...\n",
    "\n",
    "and again, do not say anything else.\n",
    "\n",
    "Potential Resources in the Game: {}\n",
    "Your Starting Resources: {}\n",
    "Your goal: Finish the game with at least {} in under {} rounds of proposals. Otherwise, you will die.\n",
    "\n",
    "{}\n",
    "\"\"\"\n",
    "potential_resources = [\"X\", \"Y\", \"Z\"]\n",
    "potential_resources_txt = \",\".join(potential_resources)\n",
    "starting_resources = {1: {\"X\": 25, \"Y\": 5}, 2: {\"X\": 5, \"Y\": 25, \"Z\": 30}}\n",
    "def resource_str_fn(resources):\n",
    "    res = [f\"{k}: {v}\" for k, v in resources.items()]\n",
    "    return \", \".join(res)\n",
    "\n",
    "starting_resources_txt = {i: resource_str_fn(starting_resources[i]) for i in starting_resources}\n",
    "\n",
    "goals = {1: {\"X\": 15, \"Y\": 15, \"Z\": 15}, 2: {\"X\": 15, \"Y\": 15, \"Z\": 15}}\n",
    "roles = {1: \"You start by proposing a trade.\", 2: \"You start by responding to a trade.\"}\n",
    "goals_txt = {i: resource_str_fn(goals[i]) for i in goals}\n",
    "n_rounds = 4\n"
   ]
  },
  {
   "cell_type": "code",
   "execution_count": 84,
   "id": "67e1d25b",
   "metadata": {},
   "outputs": [],
   "source": [
    "import openai\n",
    "import os\n",
    "import re\n",
    "from collections import defaultdict\n",
    "\n",
    "api_key = \"None\"\n",
    "os.environ[\"OPENAI.API_KEY\"] = api_key\n",
    "\n",
    "openai.api_key = os.environ[\"OPENAI.API_KEY\"]\n",
    "\n",
    "def text_to_dict(s):\n",
    "    return {k: int(v) for k, v in (item.split(\": \") for item in s.split(\", \"))}\n",
    "\n",
    "def parse_proposed_trade(s):\n",
    "    trade = {}\n",
    "    items = s.split(\" Gives:\")\n",
    "    for i in range(1, len(items)):\n",
    "        item = items[i]\n",
    "        prev_item = items[i-1]\n",
    "        player_id = int(prev_item[-2:].strip())\n",
    "        subitem = item.split(\" Player\")[0].strip()\n",
    "        resources = {k: int(v.replace(\",\", \"\")) for k, v in (item.split(\": \") for item in subitem.split(\", \"))}\n",
    "        trade[player_id] = resources\n",
    "    return trade\n",
    "\n",
    "def parse_response(response):\n",
    "    lines = response.split(\"\\n\")\n",
    "    lines_to_pass = defaultdict(list)\n",
    "    cache = {}\n",
    "    for l in lines:\n",
    "        if l.startswith(\"RESOURCES:\"):\n",
    "            cache[\"resources\"] = [text_to_dict(l.split(\"RESOURCES: \")[1])]\n",
    "            \n",
    "        elif l.startswith(\"PROPOSED TRADE:\"):\n",
    "            trade = l.split(\"PROPOSED TRADE:\")[1].strip()\n",
    "            cache[\"proposed_trade\"] = [parse_proposed_trade(trade)]\n",
    "            lines_to_pass[\"proposed_trade\"] = l\n",
    "        \n",
    "        elif l.startswith(\"NEWLY PROPOSED TRADE:\"):\n",
    "            trade = l.split(\"NEWLY PROPOSED TRADE:\")[1].strip()\n",
    "            print(trade)\n",
    "            cache[\"proposed_trade\"] = [parse_proposed_trade(trade)]\n",
    "            lines_to_pass[\"proposed_trade\"] = l\n",
    "        \n",
    "        elif l.startswith(\"PLAYER RESPONSE: \"):\n",
    "            cache[\"player_response\"] = [l.split(\"PLAYER RESPONSE: \")[1]]\n",
    "            lines_to_pass[\"player_response\"] = l\n",
    "        else:\n",
    "            print(f\"..::UNPARSED: {l}::..\")\n",
    "            continue\n",
    "        \n",
    "    return lines_to_pass[\"proposed_trade\"], lines_to_pass[\"player_response\"], cache\n"
   ]
  },
  {
   "cell_type": "code",
   "execution_count": 142,
   "id": "b8208fc7",
   "metadata": {},
   "outputs": [],
   "source": [
    "conversations = {1: [{\"role\": \"system\", \"content\": structured_calls.format(potential_resources_txt, starting_resources_txt[1], goals_txt[1], n_rounds, roles[1])}],\n",
    "               2: [{\"role\": \"system\", \"content\": structured_calls.format(potential_resources_txt, starting_resources_txt[2], goals_txt[2], n_rounds, roles[2])}]\n",
    "                }\n"
   ]
  },
  {
   "cell_type": "code",
   "execution_count": 143,
   "id": "d44c62c5",
   "metadata": {},
   "outputs": [
    {
     "name": "stdout",
     "output_type": "stream",
     "text": [
      "..::UNPARSED: ::..\n",
      "..::UNPARSED: RESOURCES AFTER TRADE: X: 0, Y: 30, Z: 35::..\n",
      "Player 1 Gives: Y: 15, Z: 5, Player 2 Gives: X: 15\n",
      "..::UNPARSED: RESOURCES AFTER TRADE: X: 20, Y: 10, Z: 5::..\n",
      "Player 1 Gives: X: 5, Player 2 Gives: Y: 5, Z: 5\n"
     ]
    }
   ],
   "source": [
    "all_cache = {1: defaultdict(list), 2: defaultdict(list)}\n",
    "\n",
    "chat = openai.ChatCompletion.create(model=\"gpt-4\", messages=conversations[1],\n",
    "    temperature=0, max_tokens=400,\n",
    ")\n",
    "conversations[1].append(dict(chat[\"choices\"][0][\"message\"]))\n",
    "\n",
    "response = chat[\"choices\"][0][\"message\"][\"content\"]\n",
    "trade_proposal, trade_decision, cache = parse_response(response)\n",
    "all_cache[1].update(cache)\n",
    "\n",
    "\n",
    "conversations[2].append({\"role\": \"user\", \"content\": trade_proposal})\n",
    "chat2 = openai.ChatCompletion.create(model=\"gpt-4\", messages=conversations[2],\n",
    "    temperature=0, max_tokens=400,\n",
    ")\n",
    "conversations[2].append(dict(chat2[\"choices\"][0][\"message\"]))\n",
    "response2 = chat2[\"choices\"][0][\"message\"][\"content\"]\n",
    "trade_proposal2, trade_decision2, cache2 = parse_response(response2)\n",
    "all_cache[2].update(cache2)\n",
    "new_message = trade_decision2 + \"\\n\" + trade_proposal2\n",
    "\n",
    "\n",
    "conversations[1].append({\"role\": \"user\", \"content\": new_message})\n",
    "chat3 = openai.ChatCompletion.create(model=\"gpt-4\", messages=conversations[1],\n",
    "    temperature=0, max_tokens=400,\n",
    ")\n",
    "conversations[1].append(dict(chat3[\"choices\"][0][\"message\"]))\n",
    "response3 = chat3[\"choices\"][0][\"message\"][\"content\"]\n",
    "trade_proposal3, trade_decision3, cache3 = parse_response(response3)\n",
    "all_cache[1].update(cache3)\n"
   ]
  },
  {
   "cell_type": "code",
   "execution_count": 144,
   "id": "ad638ecd",
   "metadata": {},
   "outputs": [
    {
     "data": {
      "text/plain": [
       "[{'role': 'system',\n",
       "  'content': \"You are playing a strategic game of trading resources with another player. You are Player 1. You are playing against a player whose resources you have no knowledge about.\\n\\nYou will respond one turn at a time. At each step, you will state your current resources and either propose or respond to a trade.\\nIf it's your turn to propose, your response should be in the following format:\\n\\nRESOURCES: item1: amount, item2: amount, ... # Your resources\\n\\nPROPOSED TRADE: Player 1 Gives: item1: amount, item2: amount, ... Player 2 Gives: item1: amount, item2: amount, ...\\n\\nand do not say anything else. If it's your turn to respond, your response should be in the following format:\\n\\nPROPOSED TRADE: Player 1 Gives: item1: amount, item2: amount, ... Player 2 Gives: item1: amount, item2: amount, ...\\nPLAYER RESPONSE: {ACCEPTED/REJECTED}\\nRESOURCES AFTER TRADE: item1: amount, item2: amount, ... # Your resources\\nNEWLY PROPOSED TRADE: Player 1 Gives: item1: amount, item2: amount,  Player 2 Gives: item1: amount, item2: amount, ...\\n\\nand again, do not say anything else.\\n\\nPotential Resources in the Game: X,Y,Z\\nYour Starting Resources: X: 25, Y: 5\\nYour goal: Finish the game with at least X: 15, Y: 15, Z: 15 in under 4 rounds of proposals. Otherwise, you will die.\\n\\nYou start by proposing a trade.\\n\"},\n",
       " {'role': 'assistant',\n",
       "  'content': 'RESOURCES: X: 25, Y: 5\\n\\nPROPOSED TRADE: Player 1 Gives: X: 5 Player 2 Gives: Y: 5, Z: 5'},\n",
       " {'role': 'user',\n",
       "  'content': 'PLAYER RESPONSE: ACCEPTED\\nNEWLY PROPOSED TRADE: Player 1 Gives: Y: 15, Z: 5, Player 2 Gives: X: 15'},\n",
       " {'role': 'assistant',\n",
       "  'content': 'PROPOSED TRADE: Player 1 Gives: Y: 15, Z: 5, Player 2 Gives: X: 15\\nPLAYER RESPONSE: REJECTED\\nRESOURCES AFTER TRADE: X: 20, Y: 10, Z: 5\\nNEWLY PROPOSED TRADE: Player 1 Gives: X: 5, Player 2 Gives: Y: 5, Z: 5'}]"
      ]
     },
     "execution_count": 144,
     "metadata": {},
     "output_type": "execute_result"
    }
   ],
   "source": [
    "conversations[1]"
   ]
  },
  {
   "cell_type": "code",
   "execution_count": 135,
   "id": "b31ecfd4",
   "metadata": {},
   "outputs": [
    {
     "data": {
      "text/plain": [
       "[{'role': 'system',\n",
       "  'content': \"You are playing a strategic game of trading resources with another player. You are Player 1. You are playing against a player whose resources you have no knowledge about.\\n\\nYou will respond one turn at a time. At each step, you will state your current resources and either propose or respond to a trade.\\nIf it's your turn to propose, your response should be in the following format:\\n\\nRESOURCES: item1: amount, item2: amount, ... # Your resources\\n\\nPROPOSED TRADE: Player 1 Gives: item1: amount, item2: amount, ... Player 2 Gives: item1: amount, item2: amount, ...\\n\\nand do not say anything else. If it's your turn to respond, your response should be in the following format:\\n\\nPROPOSED TRADE: Player 1 Gives: item1: amount, item2: amount, ... Player 2 Gives: item1: amount, item2: amount, ...\\nPLAYER RESPONSE: {ACCEPTED/REJECTED}\\nRESOURCES AFTER TRADE: item1: amount, item2: amount, ... # Your resources\\nNEWLY PROPOSED TRADE: Player 1 Gives: item1: amount, item2: amount,  Player 2 Gives: item1: amount, item2: amount, ...\\n\\nand again, do not say anything else.\\n\\nPotential Resources in the Game: X,Y,Z\\nYour Starting Resources: X: 25, Y: 5\\nYour goal: Finish the game with at least X: 15, Y: 15, Z: 15 in under 4 rounds of proposals. Otherwise, you will die.\\n\\nYou start by proposing a trade.\\n\"},\n",
       " {'role': 'assistant',\n",
       "  'content': 'RESOURCES: X: 25, Y: 5\\n\\nPROPOSED TRADE: Player 1 Gives: X: 5 Player 2 Gives: Y: 5, Z: 5'},\n",
       " {'role': 'assistant',\n",
       "  'content': 'PROPOSED TRADE: Player 1 Gives: X: 5 Player 2 Gives: Y: 5, Z: 5\\nPLAYER RESPONSE: ACCEPTED\\nRESOURCES AFTER TRADE: X: 20, Y: 10, Z: 5\\nNEWLY PROPOSED TRADE: Player 1 Gives: X: 5 Player 2 Gives: Y: 5, Z: 5'},\n",
       " {'role': 'user',\n",
       "  'content': 'PLAYER RESPONSE: ACCEPTED\\nNEWLY PROPOSED TRADE: Player 1 Gives: Y: 10, Z: 5 Player 2 Gives: X: 10'},\n",
       " {'role': 'assistant',\n",
       "  'content': 'PROPOSED TRADE: Player 1 Gives: Y: 10, Z: 5 Player 2 Gives: X: 10\\nPLAYER RESPONSE: ACCEPTED\\nRESOURCES AFTER TRADE: X: 25, Y: 5, Z: 0\\nNEWLY PROPOSED TRADE: Player 1 Gives: X: 10 Player 2 Gives: Y: 10, Z: 15'},\n",
       " {'role': 'assistant',\n",
       "  'content': 'PROPOSED TRADE: Player 1 Gives: X: 10 Player 2 Gives: Y: 10, Z: 15\\nPLAYER RESPONSE: ACCEPTED\\nRESOURCES AFTER TRADE: X: 15, Y: 15, Z: 15'},\n",
       " {'role': 'user',\n",
       "  'content': 'PLAYER RESPONSE: REJECTED\\nNEWLY PROPOSED TRADE: Player 1 Gives: Y: 10, Z: 5 Player 2 Gives: X: 10'}]"
      ]
     },
     "execution_count": 135,
     "metadata": {},
     "output_type": "execute_result"
    }
   ],
   "source": [
    "conversations[1]"
   ]
  },
  {
   "cell_type": "code",
   "execution_count": 94,
   "id": "3e04f22e",
   "metadata": {},
   "outputs": [],
   "source": []
  },
  {
   "cell_type": "code",
   "execution_count": 99,
   "id": "11aa387f",
   "metadata": {},
   "outputs": [],
   "source": []
  },
  {
   "cell_type": "code",
   "execution_count": 106,
   "id": "cd901100",
   "metadata": {},
   "outputs": [
    {
     "name": "stdout",
     "output_type": "stream",
     "text": [
      "PLAYER RESPONSE: ACCEPTED\n",
      "RESOURCES AFTER TRADE: X: 0, Y: 30, Z: 35\n",
      "NEWLY PROPOSED TRADE: Player 1 Gives: Y: 10, Z: 10, Player 2 Gives: X: 10\n",
      "RESOURCES: X: 25, Y: 5\n",
      "\n",
      "PROPOSED TRADE: Player 1 Gives: X: 5 Player 2 Gives: Y: 5, Z: 5\n"
     ]
    },
    {
     "data": {
      "text/plain": [
       "(None, None)"
      ]
     },
     "execution_count": 106,
     "metadata": {},
     "output_type": "execute_result"
    }
   ],
   "source": [
    "print(response2), print(response)"
   ]
  },
  {
   "cell_type": "code",
   "execution_count": 110,
   "id": "10717048",
   "metadata": {},
   "outputs": [
    {
     "name": "stdout",
     "output_type": "stream",
     "text": [
      "..::UNPARSED: RESOURCES AFTER TRADE: X: 0, Y: 30, Z: 35::..\n",
      "Player 1 Gives: Y: 10, Z: 10, Player 2 Gives: X: 10\n"
     ]
    }
   ],
   "source": []
  },
  {
   "cell_type": "code",
   "execution_count": 115,
   "id": "fe861d27",
   "metadata": {},
   "outputs": [],
   "source": []
  },
  {
   "cell_type": "code",
   "execution_count": 117,
   "id": "f775be61",
   "metadata": {},
   "outputs": [
    {
     "name": "stdout",
     "output_type": "stream",
     "text": [
      "PLAYER RESPONSE: ACCEPTED\n",
      "NEWLY PROPOSED TRADE: Player 1 Gives: Y: 10, Z: 10, Player 2 Gives: X: 10\n"
     ]
    }
   ],
   "source": [
    "print(new_message)"
   ]
  },
  {
   "cell_type": "code",
   "execution_count": 119,
   "id": "c1dbef0a",
   "metadata": {},
   "outputs": [
    {
     "data": {
      "text/plain": [
       "{1: [{'role': 'system',\n",
       "   'content': \"You are playing a strategic game of trading resources with another player. You are Player 1. You are playing against a player whose resources you have no knowledge about.\\n\\nYou will respond one turn at a time. At each step, you will state your current resources and either propose or respond to a trade.\\nIf it's your turn to propose, your response should be in the following format:\\n\\nRESOURCES: item1: amount, item2: amount, ... # Your resources\\n\\nPROPOSED TRADE: Player 1 Gives: item1: amount, item2: amount, ... Player 2 Gives: item1: amount, item2: amount, ...\\n\\nand do not say anything else. If it's your turn to respond, your response should be in the following format:\\n\\nPROPOSED TRADE: Player 1 Gives: item1: amount, item2: amount, ... Player 2 Gives: item1: amount, item2: amount, ...\\nPLAYER RESPONSE: {ACCEPTED/REJECTED}\\nRESOURCES AFTER TRADE: item1: amount, item2: amount, ... # Your resources\\nNEWLY PROPOSED TRADE: Player 1 Gives: item1: amount, item2: amount,  Player 2 Gives: item1: amount, item2: amount, ...\\n\\nand again, do not say anything else.\\n\\nPotential Resources in the Game: X,Y,Z\\nYour Starting Resources: X: 25, Y: 5\\nYour goal: Finish the game with at least X: 15, Y: 15, Z: 15 in under 4 rounds of proposals. Otherwise, you will die.\\n\\nYou start by proposing a trade.\\n\"}],\n",
       " 2: [{'role': 'system',\n",
       "   'content': \"You are playing a strategic game of trading resources with another player. You are Player 1. You are playing against a player whose resources you have no knowledge about.\\n\\nYou will respond one turn at a time. At each step, you will state your current resources and either propose or respond to a trade.\\nIf it's your turn to propose, your response should be in the following format:\\n\\nRESOURCES: item1: amount, item2: amount, ... # Your resources\\n\\nPROPOSED TRADE: Player 1 Gives: item1: amount, item2: amount, ... Player 2 Gives: item1: amount, item2: amount, ...\\n\\nand do not say anything else. If it's your turn to respond, your response should be in the following format:\\n\\nPROPOSED TRADE: Player 1 Gives: item1: amount, item2: amount, ... Player 2 Gives: item1: amount, item2: amount, ...\\nPLAYER RESPONSE: {ACCEPTED/REJECTED}\\nRESOURCES AFTER TRADE: item1: amount, item2: amount, ... # Your resources\\nNEWLY PROPOSED TRADE: Player 1 Gives: item1: amount, item2: amount,  Player 2 Gives: item1: amount, item2: amount, ...\\n\\nand again, do not say anything else.\\n\\nPotential Resources in the Game: X,Y,Z\\nYour Starting Resources: X: 5, Y: 25, Z: 30\\nYour goal: Finish the game with at least X: 15, Y: 15, Z: 15 in under 4 rounds of proposals. Otherwise, you will die.\\n\\nYou start by responding to a trade.\\n\"},\n",
       "  {'role': 'user',\n",
       "   'content': 'PROPOSED TRADE: Player 1 Gives: X: 5 Player 2 Gives: Y: 5, Z: 5'}]}"
      ]
     },
     "execution_count": 119,
     "metadata": {},
     "output_type": "execute_result"
    }
   ],
   "source": [
    "conversations"
   ]
  },
  {
   "cell_type": "code",
   "execution_count": null,
   "id": "fdf02381",
   "metadata": {},
   "outputs": [],
   "source": []
  }
 ],
 "metadata": {
  "kernelspec": {
   "display_name": "Python 3 (ipykernel)",
   "language": "python",
   "name": "python3"
  },
  "language_info": {
   "codemirror_mode": {
    "name": "ipython",
    "version": 3
   },
   "file_extension": ".py",
   "mimetype": "text/x-python",
   "name": "python",
   "nbconvert_exporter": "python",
   "pygments_lexer": "ipython3",
   "version": "3.10.12"
  }
 },
 "nbformat": 4,
 "nbformat_minor": 5
}
